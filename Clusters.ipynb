{
 "cells": [
  {
   "cell_type": "markdown",
   "metadata": {},
   "source": [
    "# KMEAN"
   ]
  },
  {
   "cell_type": "code",
   "execution_count": 10,
   "metadata": {},
   "outputs": [],
   "source": [
    "import matplotlib.pyplot as plt\n",
    "%matplotlib inline\n",
    "import numpy as np\n",
    "import pandas as pd\n",
    "from sklearn.cluster import DBSCAN\n",
    "from sklearn import metrics\n",
    "from sklearn.datasets.samples_generator import make_blobs\n",
    "from sklearn.preprocessing import StandardScaler\n",
    "from sklearn.cluster import KMeans\n",
    "from sklearn.datasets import make_blobs"
   ]
  },
  {
   "cell_type": "code",
   "execution_count": 11,
   "metadata": {},
   "outputs": [],
   "source": [
    "# Generate sample data\n",
    "centers = [[1, 1], [-1, -1], [1, -1]]\n",
    "X, labels_true = make_blobs(n_samples = 750, centers = centers, cluster_std = 0.4, random_state = 0)\n",
    "X = StandardScaler().fit_transform(X)"
   ]
  },
  {
   "cell_type": "code",
   "execution_count": 12,
   "metadata": {},
   "outputs": [
    {
     "data": {
      "text/plain": [
       "array([[ 0.49426097,  1.45106697],\n",
       "       [-1.42808099, -0.83706377],\n",
       "       [ 0.33855918,  1.03875871],\n",
       "       ...,\n",
       "       [-0.05713876, -0.90926105],\n",
       "       [-1.16939407,  0.03959692],\n",
       "       [ 0.26322951, -0.92649949]])"
      ]
     },
     "execution_count": 12,
     "metadata": {},
     "output_type": "execute_result"
    }
   ],
   "source": [
    "X"
   ]
  },
  {
   "cell_type": "code",
   "execution_count": 13,
   "metadata": {},
   "outputs": [],
   "source": [
    "df = pd.read_excel('/Users/michelfelipepedrazacardenas/Downloads/Data_CHURN.xlsx', sheet_name = \"Data\")"
   ]
  },
  {
   "cell_type": "code",
   "execution_count": 15,
   "metadata": {},
   "outputs": [
    {
     "data": {
      "text/plain": [
       "(9999, 208)"
      ]
     },
     "execution_count": 15,
     "metadata": {},
     "output_type": "execute_result"
    }
   ],
   "source": [
    "df.shape"
   ]
  },
  {
   "cell_type": "code",
   "execution_count": 16,
   "metadata": {},
   "outputs": [],
   "source": [
    "features = list(df.columns.drop(['NUMPERIODO','VCHRUCCOMPANIA','FLG_DEAC_M2','CTD_DEACS_M2',\n",
    "                                    'INGRESO_DEACS_M2']))"
   ]
  },
  {
   "cell_type": "code",
   "execution_count": 18,
   "metadata": {},
   "outputs": [
    {
     "data": {
      "text/plain": [
       "['VCHREGION',\n",
       " 'VCHDISTRITO',\n",
       " 'VCHSCORECREDITICIO',\n",
       " 'ANT_CLI',\n",
       " 'ANT_ACTIVA',\n",
       " 'DIA_VENTA',\n",
       " 'NUMUNIDSPRE',\n",
       " 'NUMUNIDS2TERMINAL',\n",
       " 'NUMUNIDSPOSTSIN2T',\n",
       " 'NUMIDENSIN2T',\n",
       " 'NUMBAM',\n",
       " 'NUMM2M',\n",
       " 'NUM3GPTTSIN2T',\n",
       " 'NUM3G',\n",
       " 'NUMBAFI',\n",
       " 'NUMLECTURAORIGINALCLARO',\n",
       " 'NUMLECTURAORIGINALMOVISTAR',\n",
       " 'CTD_PROD_ENTEL',\n",
       " 'CTD_PROD_MERC',\n",
       " 'PENET_ENTEL',\n",
       " 'PENET_CLARO',\n",
       " 'PENET_MOVISTAR',\n",
       " 'VEP',\n",
       " 'PENALIDAD',\n",
       " 'MIN_NUMRENTABASICA',\n",
       " 'MAX_NUMRENTABASICA',\n",
       " 'AVG_NUMRENTABASICA',\n",
       " 'SUM_NUMRENTABASICA',\n",
       " 'MIN_NUMINGRESOTEORICO',\n",
       " 'MAX_NUMINGRESOTEORICO',\n",
       " 'AVG_NUMINGRESOTEORICO',\n",
       " 'SUM_NUMINGRESOTEORICO',\n",
       " 'PEN_VEP',\n",
       " 'NUMMINUTOSENTRANTE_7M',\n",
       " 'NUMMINUTOSALIENTE_7M',\n",
       " 'NUMMINSALIENTEOFFNET_7M',\n",
       " 'NUMMINENTRANTEOFFNET_7M',\n",
       " 'NUMMINSALIENTEONNET_7M',\n",
       " 'NUMMINENTRANTEONNET_7M',\n",
       " 'NUMTRAFICOFACEBOOK_7M',\n",
       " 'NUMTRAFICOWHATSAPP_7M',\n",
       " 'NUMTRAFICOYOUTUBE_7M',\n",
       " 'NUMTRAFICOYOUTUBEPAGADO_7M',\n",
       " 'NUMTRAFICOSPOTIFY_7M',\n",
       " 'NUMTRAFICOSOUNDCLOUD_7M',\n",
       " 'NUMTRAFICOAPPLEMUSIC_7M',\n",
       " 'NUMTRAFICOINSTAGRAM_7M',\n",
       " 'NUMTRAFICOMAILILIMITADO_7M',\n",
       " 'NUMTRAFICONETFLIX_7M',\n",
       " 'NUMTRAFICOPAGADO_7M',\n",
       " 'NUMTRAFICOTOTAL_7M',\n",
       " 'NUMMINUTOSENTRANTE_6M',\n",
       " 'NUMMINUTOSALIENTE_6M',\n",
       " 'NUMMINSALIENTEOFFNET_6M',\n",
       " 'NUMMINENTRANTEOFFNET_6M',\n",
       " 'NUMMINSALIENTEONNET_6M',\n",
       " 'NUMMINENTRANTEONNET_6M',\n",
       " 'NUMTRAFICOFACEBOOK_6M',\n",
       " 'NUMTRAFICOWHATSAPP_6M',\n",
       " 'NUMTRAFICOYOUTUBE_6M',\n",
       " 'NUMTRAFICOYOUTUBEPAGADO_6M',\n",
       " 'NUMTRAFICOSPOTIFY_6M',\n",
       " 'NUMTRAFICOSOUNDCLOUD_6M',\n",
       " 'NUMTRAFICOAPPLEMUSIC_6M',\n",
       " 'NUMTRAFICOINSTAGRAM_6M',\n",
       " 'NUMTRAFICOMAILILIMITADO_6M',\n",
       " 'NUMTRAFICONETFLIX_6M',\n",
       " 'NUMTRAFICOPAGADO_6M',\n",
       " 'NUMTRAFICOTOTAL_6M',\n",
       " 'NUMMINUTOSENTRANTE_4M',\n",
       " 'NUMMINUTOSALIENTE_4M',\n",
       " 'NUMMINSALIENTEOFFNET_4M',\n",
       " 'NUMMINENTRANTEOFFNET_4M',\n",
       " 'NUMMINSALIENTEONNET_4M',\n",
       " 'NUMMINENTRANTEONNET_4M',\n",
       " 'NUMTRAFICOFACEBOOK_4M',\n",
       " 'NUMTRAFICOWHATSAPP_4M',\n",
       " 'NUMTRAFICOYOUTUBE_4M',\n",
       " 'NUMTRAFICOYOUTUBEPAGADO_4M',\n",
       " 'NUMTRAFICOSPOTIFY_4M',\n",
       " 'NUMTRAFICOSOUNDCLOUD_4M',\n",
       " 'NUMTRAFICOAPPLEMUSIC_4M',\n",
       " 'NUMTRAFICOINSTAGRAM_4M',\n",
       " 'NUMTRAFICOMAILILIMITADO_4M',\n",
       " 'NUMTRAFICONETFLIX_4M',\n",
       " 'NUMTRAFICOPAGADO_4M',\n",
       " 'NUMTRAFICOTOTAL_4M',\n",
       " 'NUMMINUTOSENTRANTE_3M',\n",
       " 'NUMMINUTOSALIENTE_3M',\n",
       " 'NUMMINSALIENTEOFFNET_3M',\n",
       " 'NUMMINENTRANTEOFFNET_3M',\n",
       " 'NUMMINSALIENTEONNET_3M',\n",
       " 'NUMMINENTRANTEONNET_3M',\n",
       " 'NUMTRAFICOFACEBOOK_3M',\n",
       " 'NUMTRAFICOWHATSAPP_3M',\n",
       " 'NUMTRAFICOYOUTUBE_3M',\n",
       " 'NUMTRAFICOYOUTUBEPAGADO_3M',\n",
       " 'NUMTRAFICOSPOTIFY_3M',\n",
       " 'NUMTRAFICOSOUNDCLOUD_3M',\n",
       " 'NUMTRAFICOAPPLEMUSIC_3M',\n",
       " 'NUMTRAFICOINSTAGRAM_3M',\n",
       " 'NUMTRAFICOMAILILIMITADO_3M',\n",
       " 'NUMTRAFICONETFLIX_3M',\n",
       " 'NUMTRAFICOPAGADO_3M',\n",
       " 'NUMTRAFICOTOTAL_3M',\n",
       " 'NUMMINUTOSENTRANTE_2M',\n",
       " 'NUMMINUTOSALIENTE_2M',\n",
       " 'NUMMINSALIENTEOFFNET_2M',\n",
       " 'NUMMINENTRANTEOFFNET_2M',\n",
       " 'NUMMINSALIENTEONNET_2M',\n",
       " 'NUMMINENTRANTEONNET_2M',\n",
       " 'NUMTRAFICOFACEBOOK_2M',\n",
       " 'NUMTRAFICOWHATSAPP_2M',\n",
       " 'NUMTRAFICOYOUTUBE_2M',\n",
       " 'NUMTRAFICOYOUTUBEPAGADO_2M',\n",
       " 'NUMTRAFICOSPOTIFY_2M',\n",
       " 'NUMTRAFICOSOUNDCLOUD_2M',\n",
       " 'NUMTRAFICOAPPLEMUSIC_2M',\n",
       " 'NUMTRAFICOINSTAGRAM_2M',\n",
       " 'NUMTRAFICOMAILILIMITADO_2M',\n",
       " 'NUMTRAFICONETFLIX_2M',\n",
       " 'NUMTRAFICOPAGADO_2M',\n",
       " 'NUMTRAFICOTOTAL_2M',\n",
       " 'NUMMINUTOSENTRANTE_1M',\n",
       " 'NUMMINUTOSALIENTE_1M',\n",
       " 'NUMMINSALIENTEOFFNET_1M',\n",
       " 'NUMMINENTRANTEOFFNET_1M',\n",
       " 'NUMMINSALIENTEONNET_1M',\n",
       " 'NUMMINENTRANTEONNET_1M',\n",
       " 'NUMTRAFICOFACEBOOK_1M',\n",
       " 'NUMTRAFICOWHATSAPP_1M',\n",
       " 'NUMTRAFICOYOUTUBE_1M',\n",
       " 'NUMTRAFICOYOUTUBEPAGADO_1M',\n",
       " 'NUMTRAFICOSPOTIFY_1M',\n",
       " 'NUMTRAFICOSOUNDCLOUD_1M',\n",
       " 'NUMTRAFICOAPPLEMUSIC_1M',\n",
       " 'NUMTRAFICOINSTAGRAM_1M',\n",
       " 'NUMTRAFICOMAILILIMITADO_1M',\n",
       " 'NUMTRAFICONETFLIX_1M',\n",
       " 'NUMTRAFICOPAGADO_1M',\n",
       " 'NUMTRAFICOTOTAL_1M',\n",
       " 'NUMMINUTOSENTRANTE_M0',\n",
       " 'NUMMINUTOSALIENTE_M0',\n",
       " 'NUMMINSALIENTEOFFNET_M0',\n",
       " 'NUMMINENTRANTEOFFNET_M0',\n",
       " 'NUMMINSALIENTEONNET_M0',\n",
       " 'NUMMINENTRANTEONNET_M0',\n",
       " 'NUMTRAFICOFACEBOOK_M0',\n",
       " 'NUMTRAFICOWHATSAPP_M0',\n",
       " 'NUMTRAFICOYOUTUBE_M0',\n",
       " 'NUMTRAFICOYOUTUBEPAGADO_M0',\n",
       " 'NUMTRAFICOSPOTIFY_M0',\n",
       " 'NUMTRAFICOSOUNDCLOUD_M0',\n",
       " 'NUMTRAFICOAPPLEMUSIC_M0',\n",
       " 'NUMTRAFICOINSTAGRAM_M0',\n",
       " 'NUMTRAFICOMAILILIMITADO_M0',\n",
       " 'NUMTRAFICONETFLIX_M0',\n",
       " 'NUMTRAFICOPAGADO_M0',\n",
       " 'NUMTRAFICOTOTAL_M0',\n",
       " 'NUMMINUTOSENTRANTE_U3M',\n",
       " 'NUMMINUTOSALIENTE_U3M',\n",
       " 'NUMMINSALIENTEOFFNET_U3M',\n",
       " 'NUMMINENTRANTEOFFNET_U3M',\n",
       " 'NUMMINSALIENTEONNET_U3M',\n",
       " 'NUMMINENTRANTEONNET_U3M',\n",
       " 'NUMTRAFICOFACEBOOK_U3M',\n",
       " 'NUMTRAFICOWHATSAPP_U3M',\n",
       " 'NUMTRAFICOYOUTUBE_U3M',\n",
       " 'NUMTRAFICOYOUTUBEPAGADO_U3M',\n",
       " 'NUMTRAFICOSPOTIFY_U3M',\n",
       " 'NUMTRAFICOSOUNDCLOUD_U3M',\n",
       " 'NUMTRAFICOAPPLEMUSIC_U3M',\n",
       " 'NUMTRAFICOINSTAGRAM_U3M',\n",
       " 'NUMTRAFICOMAILILIMITADO_U3M',\n",
       " 'NUMTRAFICONETFLIX_U3M',\n",
       " 'NUMTRAFICOPAGADO_U3M',\n",
       " 'NUMTRAFICOTOTAL_U3M',\n",
       " 'NUMMINUTOSENTRANTE_U6M',\n",
       " 'NUMMINUTOSALIENTE_U6M',\n",
       " 'NUMMINSALIENTEOFFNET_U6M',\n",
       " 'NUMMINENTRANTEOFFNET_U6M',\n",
       " 'NUMMINSALIENTEONNET_U6M',\n",
       " 'NUMMINENTRANTEONNET_U6M',\n",
       " 'NUMTRAFICOFACEBOOK_U6M',\n",
       " 'NUMTRAFICOWHATSAPP_U6M',\n",
       " 'NUMTRAFICOYOUTUBE_U6M',\n",
       " 'NUMTRAFICOYOUTUBEPAGADO_U6M',\n",
       " 'NUMTRAFICOSPOTIFY_U6M',\n",
       " 'NUMTRAFICOSOUNDCLOUD_U6M',\n",
       " 'NUMTRAFICOAPPLEMUSIC_U6M',\n",
       " 'NUMTRAFICOINSTAGRAM_U6M',\n",
       " 'NUMTRAFICOMAILILIMITADO_U6M',\n",
       " 'NUMTRAFICONETFLIX_U6M',\n",
       " 'NUMTRAFICOPAGADO_U6M',\n",
       " 'NUMTRAFICOTOTAL_U6M',\n",
       " 'U_NUMMINUTOSENTRANTE_U3M',\n",
       " 'U_NUMMINUTOSALIENTE_U3M',\n",
       " 'U_NUMMINSALIENTEOFFNET_U3M',\n",
       " 'U_NUMMINENTRANTEOFFNET_U3M',\n",
       " 'U_NUMMINSALIENTEONNET_U3M',\n",
       " 'U_NUMMINENTRANTEONNET_U3M',\n",
       " 'U_NUMTRAFICOFACEBOOK_U3M',\n",
       " 'U_NUMTRAFICOWHATSAPP_U3M']"
      ]
     },
     "execution_count": 18,
     "metadata": {},
     "output_type": "execute_result"
    }
   ],
   "source": [
    "features"
   ]
  },
  {
   "cell_type": "code",
   "execution_count": 19,
   "metadata": {},
   "outputs": [
    {
     "data": {
      "text/plain": [
       "['ANT_CLI',\n",
       " 'ANT_ACTIVA',\n",
       " 'DIA_VENTA',\n",
       " 'NUMUNIDSPRE',\n",
       " 'NUMUNIDS2TERMINAL',\n",
       " 'NUMUNIDSPOSTSIN2T',\n",
       " 'NUMIDENSIN2T',\n",
       " 'NUMBAM',\n",
       " 'NUMM2M',\n",
       " 'NUM3GPTTSIN2T',\n",
       " 'NUM3G',\n",
       " 'NUMBAFI',\n",
       " 'NUMLECTURAORIGINALCLARO',\n",
       " 'NUMLECTURAORIGINALMOVISTAR',\n",
       " 'CTD_PROD_ENTEL',\n",
       " 'CTD_PROD_MERC',\n",
       " 'PENET_ENTEL',\n",
       " 'PENET_CLARO',\n",
       " 'PENET_MOVISTAR',\n",
       " 'VEP',\n",
       " 'PENALIDAD',\n",
       " 'MIN_NUMRENTABASICA',\n",
       " 'MAX_NUMRENTABASICA',\n",
       " 'AVG_NUMRENTABASICA',\n",
       " 'SUM_NUMRENTABASICA',\n",
       " 'MIN_NUMINGRESOTEORICO',\n",
       " 'MAX_NUMINGRESOTEORICO',\n",
       " 'AVG_NUMINGRESOTEORICO',\n",
       " 'SUM_NUMINGRESOTEORICO',\n",
       " 'PEN_VEP',\n",
       " 'NUMMINUTOSENTRANTE_7M',\n",
       " 'NUMMINUTOSALIENTE_7M',\n",
       " 'NUMMINSALIENTEOFFNET_7M',\n",
       " 'NUMMINENTRANTEOFFNET_7M',\n",
       " 'NUMMINSALIENTEONNET_7M',\n",
       " 'NUMMINENTRANTEONNET_7M',\n",
       " 'NUMTRAFICOFACEBOOK_7M',\n",
       " 'NUMTRAFICOWHATSAPP_7M',\n",
       " 'NUMTRAFICOYOUTUBE_7M',\n",
       " 'NUMTRAFICOYOUTUBEPAGADO_7M',\n",
       " 'NUMTRAFICOSPOTIFY_7M',\n",
       " 'NUMTRAFICOSOUNDCLOUD_7M',\n",
       " 'NUMTRAFICOAPPLEMUSIC_7M',\n",
       " 'NUMTRAFICOINSTAGRAM_7M',\n",
       " 'NUMTRAFICOMAILILIMITADO_7M',\n",
       " 'NUMTRAFICONETFLIX_7M',\n",
       " 'NUMTRAFICOPAGADO_7M',\n",
       " 'NUMTRAFICOTOTAL_7M',\n",
       " 'NUMMINUTOSENTRANTE_6M',\n",
       " 'NUMMINUTOSALIENTE_6M',\n",
       " 'NUMMINSALIENTEOFFNET_6M',\n",
       " 'NUMMINENTRANTEOFFNET_6M',\n",
       " 'NUMMINSALIENTEONNET_6M',\n",
       " 'NUMMINENTRANTEONNET_6M',\n",
       " 'NUMTRAFICOFACEBOOK_6M',\n",
       " 'NUMTRAFICOWHATSAPP_6M',\n",
       " 'NUMTRAFICOYOUTUBE_6M',\n",
       " 'NUMTRAFICOYOUTUBEPAGADO_6M',\n",
       " 'NUMTRAFICOSPOTIFY_6M',\n",
       " 'NUMTRAFICOSOUNDCLOUD_6M',\n",
       " 'NUMTRAFICOAPPLEMUSIC_6M',\n",
       " 'NUMTRAFICOINSTAGRAM_6M',\n",
       " 'NUMTRAFICOMAILILIMITADO_6M',\n",
       " 'NUMTRAFICONETFLIX_6M',\n",
       " 'NUMTRAFICOPAGADO_6M',\n",
       " 'NUMTRAFICOTOTAL_6M',\n",
       " 'NUMMINUTOSENTRANTE_4M',\n",
       " 'NUMMINUTOSALIENTE_4M',\n",
       " 'NUMMINSALIENTEOFFNET_4M',\n",
       " 'NUMMINENTRANTEOFFNET_4M',\n",
       " 'NUMMINSALIENTEONNET_4M',\n",
       " 'NUMMINENTRANTEONNET_4M',\n",
       " 'NUMTRAFICOFACEBOOK_4M',\n",
       " 'NUMTRAFICOWHATSAPP_4M',\n",
       " 'NUMTRAFICOYOUTUBE_4M',\n",
       " 'NUMTRAFICOYOUTUBEPAGADO_4M',\n",
       " 'NUMTRAFICOSPOTIFY_4M',\n",
       " 'NUMTRAFICOSOUNDCLOUD_4M',\n",
       " 'NUMTRAFICOAPPLEMUSIC_4M',\n",
       " 'NUMTRAFICOINSTAGRAM_4M',\n",
       " 'NUMTRAFICOMAILILIMITADO_4M',\n",
       " 'NUMTRAFICONETFLIX_4M',\n",
       " 'NUMTRAFICOPAGADO_4M',\n",
       " 'NUMTRAFICOTOTAL_4M',\n",
       " 'NUMMINUTOSENTRANTE_3M',\n",
       " 'NUMMINUTOSALIENTE_3M',\n",
       " 'NUMMINSALIENTEOFFNET_3M',\n",
       " 'NUMMINENTRANTEOFFNET_3M',\n",
       " 'NUMMINSALIENTEONNET_3M',\n",
       " 'NUMMINENTRANTEONNET_3M',\n",
       " 'NUMTRAFICOFACEBOOK_3M',\n",
       " 'NUMTRAFICOWHATSAPP_3M',\n",
       " 'NUMTRAFICOYOUTUBE_3M',\n",
       " 'NUMTRAFICOYOUTUBEPAGADO_3M',\n",
       " 'NUMTRAFICOSPOTIFY_3M',\n",
       " 'NUMTRAFICOSOUNDCLOUD_3M',\n",
       " 'NUMTRAFICOAPPLEMUSIC_3M',\n",
       " 'NUMTRAFICOINSTAGRAM_3M',\n",
       " 'NUMTRAFICOMAILILIMITADO_3M',\n",
       " 'NUMTRAFICONETFLIX_3M',\n",
       " 'NUMTRAFICOPAGADO_3M',\n",
       " 'NUMTRAFICOTOTAL_3M',\n",
       " 'NUMMINUTOSENTRANTE_2M',\n",
       " 'NUMMINUTOSALIENTE_2M',\n",
       " 'NUMMINSALIENTEOFFNET_2M',\n",
       " 'NUMMINENTRANTEOFFNET_2M',\n",
       " 'NUMMINSALIENTEONNET_2M',\n",
       " 'NUMMINENTRANTEONNET_2M',\n",
       " 'NUMTRAFICOFACEBOOK_2M',\n",
       " 'NUMTRAFICOWHATSAPP_2M',\n",
       " 'NUMTRAFICOYOUTUBE_2M',\n",
       " 'NUMTRAFICOYOUTUBEPAGADO_2M',\n",
       " 'NUMTRAFICOSPOTIFY_2M',\n",
       " 'NUMTRAFICOSOUNDCLOUD_2M',\n",
       " 'NUMTRAFICOAPPLEMUSIC_2M',\n",
       " 'NUMTRAFICOINSTAGRAM_2M',\n",
       " 'NUMTRAFICOMAILILIMITADO_2M',\n",
       " 'NUMTRAFICONETFLIX_2M',\n",
       " 'NUMTRAFICOPAGADO_2M',\n",
       " 'NUMTRAFICOTOTAL_2M',\n",
       " 'NUMMINUTOSENTRANTE_1M',\n",
       " 'NUMMINUTOSALIENTE_1M',\n",
       " 'NUMMINSALIENTEOFFNET_1M',\n",
       " 'NUMMINENTRANTEOFFNET_1M',\n",
       " 'NUMMINSALIENTEONNET_1M',\n",
       " 'NUMMINENTRANTEONNET_1M',\n",
       " 'NUMTRAFICOFACEBOOK_1M',\n",
       " 'NUMTRAFICOWHATSAPP_1M',\n",
       " 'NUMTRAFICOYOUTUBE_1M',\n",
       " 'NUMTRAFICOYOUTUBEPAGADO_1M',\n",
       " 'NUMTRAFICOSPOTIFY_1M',\n",
       " 'NUMTRAFICOSOUNDCLOUD_1M',\n",
       " 'NUMTRAFICOAPPLEMUSIC_1M',\n",
       " 'NUMTRAFICOINSTAGRAM_1M',\n",
       " 'NUMTRAFICOMAILILIMITADO_1M',\n",
       " 'NUMTRAFICONETFLIX_1M',\n",
       " 'NUMTRAFICOPAGADO_1M',\n",
       " 'NUMTRAFICOTOTAL_1M',\n",
       " 'NUMMINUTOSENTRANTE_M0',\n",
       " 'NUMMINUTOSALIENTE_M0',\n",
       " 'NUMMINSALIENTEOFFNET_M0',\n",
       " 'NUMMINENTRANTEOFFNET_M0',\n",
       " 'NUMMINSALIENTEONNET_M0',\n",
       " 'NUMMINENTRANTEONNET_M0',\n",
       " 'NUMTRAFICOFACEBOOK_M0',\n",
       " 'NUMTRAFICOWHATSAPP_M0',\n",
       " 'NUMTRAFICOYOUTUBE_M0',\n",
       " 'NUMTRAFICOYOUTUBEPAGADO_M0',\n",
       " 'NUMTRAFICOSPOTIFY_M0',\n",
       " 'NUMTRAFICOSOUNDCLOUD_M0',\n",
       " 'NUMTRAFICOAPPLEMUSIC_M0',\n",
       " 'NUMTRAFICOINSTAGRAM_M0',\n",
       " 'NUMTRAFICOMAILILIMITADO_M0',\n",
       " 'NUMTRAFICONETFLIX_M0',\n",
       " 'NUMTRAFICOPAGADO_M0',\n",
       " 'NUMTRAFICOTOTAL_M0',\n",
       " 'NUMMINUTOSENTRANTE_U3M',\n",
       " 'NUMMINUTOSALIENTE_U3M',\n",
       " 'NUMMINSALIENTEOFFNET_U3M',\n",
       " 'NUMMINENTRANTEOFFNET_U3M',\n",
       " 'NUMMINSALIENTEONNET_U3M',\n",
       " 'NUMMINENTRANTEONNET_U3M',\n",
       " 'NUMTRAFICOFACEBOOK_U3M',\n",
       " 'NUMTRAFICOWHATSAPP_U3M',\n",
       " 'NUMTRAFICOYOUTUBE_U3M',\n",
       " 'NUMTRAFICOYOUTUBEPAGADO_U3M',\n",
       " 'NUMTRAFICOSPOTIFY_U3M',\n",
       " 'NUMTRAFICOSOUNDCLOUD_U3M',\n",
       " 'NUMTRAFICOAPPLEMUSIC_U3M',\n",
       " 'NUMTRAFICOINSTAGRAM_U3M',\n",
       " 'NUMTRAFICOMAILILIMITADO_U3M',\n",
       " 'NUMTRAFICONETFLIX_U3M',\n",
       " 'NUMTRAFICOPAGADO_U3M',\n",
       " 'NUMTRAFICOTOTAL_U3M',\n",
       " 'NUMMINUTOSENTRANTE_U6M',\n",
       " 'NUMMINUTOSALIENTE_U6M',\n",
       " 'NUMMINSALIENTEOFFNET_U6M',\n",
       " 'NUMMINENTRANTEOFFNET_U6M',\n",
       " 'NUMMINSALIENTEONNET_U6M',\n",
       " 'NUMMINENTRANTEONNET_U6M',\n",
       " 'NUMTRAFICOFACEBOOK_U6M',\n",
       " 'NUMTRAFICOWHATSAPP_U6M',\n",
       " 'NUMTRAFICOYOUTUBE_U6M',\n",
       " 'NUMTRAFICOYOUTUBEPAGADO_U6M',\n",
       " 'NUMTRAFICOSPOTIFY_U6M',\n",
       " 'NUMTRAFICOSOUNDCLOUD_U6M',\n",
       " 'NUMTRAFICOAPPLEMUSIC_U6M',\n",
       " 'NUMTRAFICOINSTAGRAM_U6M',\n",
       " 'NUMTRAFICOMAILILIMITADO_U6M',\n",
       " 'NUMTRAFICONETFLIX_U6M',\n",
       " 'NUMTRAFICOPAGADO_U6M',\n",
       " 'NUMTRAFICOTOTAL_U6M',\n",
       " 'U_NUMMINUTOSENTRANTE_U3M',\n",
       " 'U_NUMMINUTOSALIENTE_U3M',\n",
       " 'U_NUMMINSALIENTEOFFNET_U3M',\n",
       " 'U_NUMMINENTRANTEOFFNET_U3M',\n",
       " 'U_NUMMINSALIENTEONNET_U3M',\n",
       " 'U_NUMMINENTRANTEONNET_U3M',\n",
       " 'U_NUMTRAFICOFACEBOOK_U3M',\n",
       " 'U_NUMTRAFICOWHATSAPP_U3M']"
      ]
     },
     "execution_count": 19,
     "metadata": {},
     "output_type": "execute_result"
    }
   ],
   "source": [
    "#características numéricas\n",
    "features_num = list(df[features].select_dtypes(include=[float, int, np.int64, np.float64]).columns)\n",
    "features_num"
   ]
  },
  {
   "cell_type": "code",
   "execution_count": 20,
   "metadata": {
    "scrolled": true
   },
   "outputs": [
    {
     "data": {
      "text/html": [
       "<div>\n",
       "<style scoped>\n",
       "    .dataframe tbody tr th:only-of-type {\n",
       "        vertical-align: middle;\n",
       "    }\n",
       "\n",
       "    .dataframe tbody tr th {\n",
       "        vertical-align: top;\n",
       "    }\n",
       "\n",
       "    .dataframe thead th {\n",
       "        text-align: right;\n",
       "    }\n",
       "</style>\n",
       "<table border=\"1\" class=\"dataframe\">\n",
       "  <thead>\n",
       "    <tr style=\"text-align: right;\">\n",
       "      <th></th>\n",
       "      <th>ANT_CLI</th>\n",
       "      <th>ANT_ACTIVA</th>\n",
       "      <th>DIA_VENTA</th>\n",
       "      <th>NUMUNIDSPRE</th>\n",
       "      <th>NUMUNIDS2TERMINAL</th>\n",
       "      <th>NUMUNIDSPOSTSIN2T</th>\n",
       "      <th>NUMIDENSIN2T</th>\n",
       "      <th>NUMBAM</th>\n",
       "      <th>NUMM2M</th>\n",
       "      <th>NUM3GPTTSIN2T</th>\n",
       "      <th>...</th>\n",
       "      <th>NUMTRAFICOPAGADO_U6M</th>\n",
       "      <th>NUMTRAFICOTOTAL_U6M</th>\n",
       "      <th>U_NUMMINUTOSENTRANTE_U3M</th>\n",
       "      <th>U_NUMMINUTOSALIENTE_U3M</th>\n",
       "      <th>U_NUMMINSALIENTEOFFNET_U3M</th>\n",
       "      <th>U_NUMMINENTRANTEOFFNET_U3M</th>\n",
       "      <th>U_NUMMINSALIENTEONNET_U3M</th>\n",
       "      <th>U_NUMMINENTRANTEONNET_U3M</th>\n",
       "      <th>U_NUMTRAFICOFACEBOOK_U3M</th>\n",
       "      <th>U_NUMTRAFICOWHATSAPP_U3M</th>\n",
       "    </tr>\n",
       "  </thead>\n",
       "  <tbody>\n",
       "    <tr>\n",
       "      <td>0</td>\n",
       "      <td>26.2258</td>\n",
       "      <td>26.1613</td>\n",
       "      <td>27</td>\n",
       "      <td>0</td>\n",
       "      <td>0</td>\n",
       "      <td>3</td>\n",
       "      <td>0</td>\n",
       "      <td>0</td>\n",
       "      <td>0</td>\n",
       "      <td>0</td>\n",
       "      <td>...</td>\n",
       "      <td>78232.847552</td>\n",
       "      <td>89511.081641</td>\n",
       "      <td>117.650000</td>\n",
       "      <td>89.238235</td>\n",
       "      <td>84.489376</td>\n",
       "      <td>84.322517</td>\n",
       "      <td>12.812584</td>\n",
       "      <td>33.327482</td>\n",
       "      <td>1.712867</td>\n",
       "      <td>272.137208</td>\n",
       "    </tr>\n",
       "    <tr>\n",
       "      <td>1</td>\n",
       "      <td>166.5806</td>\n",
       "      <td>3.1613</td>\n",
       "      <td>27</td>\n",
       "      <td>1</td>\n",
       "      <td>0</td>\n",
       "      <td>12</td>\n",
       "      <td>0</td>\n",
       "      <td>0</td>\n",
       "      <td>0</td>\n",
       "      <td>0</td>\n",
       "      <td>...</td>\n",
       "      <td>830468.315813</td>\n",
       "      <td>950201.448747</td>\n",
       "      <td>629.885294</td>\n",
       "      <td>730.229412</td>\n",
       "      <td>356.509812</td>\n",
       "      <td>223.880500</td>\n",
       "      <td>373.719600</td>\n",
       "      <td>406.004794</td>\n",
       "      <td>194.930192</td>\n",
       "      <td>2151.306892</td>\n",
       "    </tr>\n",
       "    <tr>\n",
       "      <td>2</td>\n",
       "      <td>176.0645</td>\n",
       "      <td>1.5484</td>\n",
       "      <td>31</td>\n",
       "      <td>0</td>\n",
       "      <td>0</td>\n",
       "      <td>39</td>\n",
       "      <td>0</td>\n",
       "      <td>0</td>\n",
       "      <td>0</td>\n",
       "      <td>0</td>\n",
       "      <td>...</td>\n",
       "      <td>390574.310311</td>\n",
       "      <td>452281.958730</td>\n",
       "      <td>1430.050984</td>\n",
       "      <td>2100.218669</td>\n",
       "      <td>1192.424924</td>\n",
       "      <td>671.688476</td>\n",
       "      <td>907.793746</td>\n",
       "      <td>758.755689</td>\n",
       "      <td>225.046418</td>\n",
       "      <td>1031.065128</td>\n",
       "    </tr>\n",
       "    <tr>\n",
       "      <td>3</td>\n",
       "      <td>8.0645</td>\n",
       "      <td>7.3871</td>\n",
       "      <td>20</td>\n",
       "      <td>0</td>\n",
       "      <td>0</td>\n",
       "      <td>34</td>\n",
       "      <td>0</td>\n",
       "      <td>1</td>\n",
       "      <td>0</td>\n",
       "      <td>0</td>\n",
       "      <td>...</td>\n",
       "      <td>475397.261585</td>\n",
       "      <td>586872.250817</td>\n",
       "      <td>1002.811765</td>\n",
       "      <td>1454.029412</td>\n",
       "      <td>818.119682</td>\n",
       "      <td>466.384294</td>\n",
       "      <td>635.934243</td>\n",
       "      <td>538.113733</td>\n",
       "      <td>102.746829</td>\n",
       "      <td>898.947768</td>\n",
       "    </tr>\n",
       "    <tr>\n",
       "      <td>4</td>\n",
       "      <td>28.1935</td>\n",
       "      <td>22.0323</td>\n",
       "      <td>31</td>\n",
       "      <td>0</td>\n",
       "      <td>0</td>\n",
       "      <td>18</td>\n",
       "      <td>0</td>\n",
       "      <td>0</td>\n",
       "      <td>0</td>\n",
       "      <td>0</td>\n",
       "      <td>...</td>\n",
       "      <td>201845.853703</td>\n",
       "      <td>285086.935699</td>\n",
       "      <td>1423.443691</td>\n",
       "      <td>1751.274478</td>\n",
       "      <td>1003.035470</td>\n",
       "      <td>707.146106</td>\n",
       "      <td>748.239125</td>\n",
       "      <td>716.510362</td>\n",
       "      <td>92.362968</td>\n",
       "      <td>1155.809031</td>\n",
       "    </tr>\n",
       "    <tr>\n",
       "      <td>...</td>\n",
       "      <td>...</td>\n",
       "      <td>...</td>\n",
       "      <td>...</td>\n",
       "      <td>...</td>\n",
       "      <td>...</td>\n",
       "      <td>...</td>\n",
       "      <td>...</td>\n",
       "      <td>...</td>\n",
       "      <td>...</td>\n",
       "      <td>...</td>\n",
       "      <td>...</td>\n",
       "      <td>...</td>\n",
       "      <td>...</td>\n",
       "      <td>...</td>\n",
       "      <td>...</td>\n",
       "      <td>...</td>\n",
       "      <td>...</td>\n",
       "      <td>...</td>\n",
       "      <td>...</td>\n",
       "      <td>...</td>\n",
       "      <td>...</td>\n",
       "    </tr>\n",
       "    <tr>\n",
       "      <td>9994</td>\n",
       "      <td>122.0645</td>\n",
       "      <td>6.0000</td>\n",
       "      <td>1</td>\n",
       "      <td>0</td>\n",
       "      <td>0</td>\n",
       "      <td>2</td>\n",
       "      <td>0</td>\n",
       "      <td>0</td>\n",
       "      <td>0</td>\n",
       "      <td>0</td>\n",
       "      <td>...</td>\n",
       "      <td>30867.538712</td>\n",
       "      <td>36523.198674</td>\n",
       "      <td>274.460833</td>\n",
       "      <td>384.321667</td>\n",
       "      <td>267.985160</td>\n",
       "      <td>174.645260</td>\n",
       "      <td>116.336540</td>\n",
       "      <td>99.815573</td>\n",
       "      <td>149.140893</td>\n",
       "      <td>121.702282</td>\n",
       "    </tr>\n",
       "    <tr>\n",
       "      <td>9995</td>\n",
       "      <td>168.0645</td>\n",
       "      <td>34.6774</td>\n",
       "      <td>11</td>\n",
       "      <td>0</td>\n",
       "      <td>0</td>\n",
       "      <td>15</td>\n",
       "      <td>0</td>\n",
       "      <td>1</td>\n",
       "      <td>0</td>\n",
       "      <td>0</td>\n",
       "      <td>...</td>\n",
       "      <td>149795.747355</td>\n",
       "      <td>179015.256062</td>\n",
       "      <td>874.086275</td>\n",
       "      <td>1319.504902</td>\n",
       "      <td>902.506024</td>\n",
       "      <td>553.859894</td>\n",
       "      <td>416.998878</td>\n",
       "      <td>320.226380</td>\n",
       "      <td>75.257677</td>\n",
       "      <td>568.208860</td>\n",
       "    </tr>\n",
       "    <tr>\n",
       "      <td>9996</td>\n",
       "      <td>28.7097</td>\n",
       "      <td>28.6774</td>\n",
       "      <td>11</td>\n",
       "      <td>0</td>\n",
       "      <td>0</td>\n",
       "      <td>10</td>\n",
       "      <td>0</td>\n",
       "      <td>2</td>\n",
       "      <td>0</td>\n",
       "      <td>0</td>\n",
       "      <td>...</td>\n",
       "      <td>141644.587820</td>\n",
       "      <td>151935.540039</td>\n",
       "      <td>139.716671</td>\n",
       "      <td>173.470588</td>\n",
       "      <td>179.162753</td>\n",
       "      <td>97.839288</td>\n",
       "      <td>50.298029</td>\n",
       "      <td>41.877382</td>\n",
       "      <td>3.583887</td>\n",
       "      <td>167.281278</td>\n",
       "    </tr>\n",
       "    <tr>\n",
       "      <td>9997</td>\n",
       "      <td>165.0968</td>\n",
       "      <td>9.1613</td>\n",
       "      <td>27</td>\n",
       "      <td>0</td>\n",
       "      <td>0</td>\n",
       "      <td>10</td>\n",
       "      <td>0</td>\n",
       "      <td>0</td>\n",
       "      <td>0</td>\n",
       "      <td>0</td>\n",
       "      <td>...</td>\n",
       "      <td>175434.237605</td>\n",
       "      <td>203321.844795</td>\n",
       "      <td>274.501190</td>\n",
       "      <td>936.435714</td>\n",
       "      <td>585.381043</td>\n",
       "      <td>204.839721</td>\n",
       "      <td>355.940386</td>\n",
       "      <td>69.832921</td>\n",
       "      <td>284.231151</td>\n",
       "      <td>903.155346</td>\n",
       "    </tr>\n",
       "    <tr>\n",
       "      <td>9998</td>\n",
       "      <td>203.1290</td>\n",
       "      <td>37.5806</td>\n",
       "      <td>14</td>\n",
       "      <td>0</td>\n",
       "      <td>0</td>\n",
       "      <td>3</td>\n",
       "      <td>0</td>\n",
       "      <td>0</td>\n",
       "      <td>0</td>\n",
       "      <td>0</td>\n",
       "      <td>...</td>\n",
       "      <td>130524.373484</td>\n",
       "      <td>141645.046380</td>\n",
       "      <td>218.713726</td>\n",
       "      <td>180.062745</td>\n",
       "      <td>119.970535</td>\n",
       "      <td>125.751976</td>\n",
       "      <td>60.092249</td>\n",
       "      <td>92.961690</td>\n",
       "      <td>5.388790</td>\n",
       "      <td>229.169539</td>\n",
       "    </tr>\n",
       "  </tbody>\n",
       "</table>\n",
       "<p>9999 rows × 200 columns</p>\n",
       "</div>"
      ],
      "text/plain": [
       "       ANT_CLI  ANT_ACTIVA  DIA_VENTA  NUMUNIDSPRE  NUMUNIDS2TERMINAL  \\\n",
       "0      26.2258     26.1613         27            0                  0   \n",
       "1     166.5806      3.1613         27            1                  0   \n",
       "2     176.0645      1.5484         31            0                  0   \n",
       "3       8.0645      7.3871         20            0                  0   \n",
       "4      28.1935     22.0323         31            0                  0   \n",
       "...        ...         ...        ...          ...                ...   \n",
       "9994  122.0645      6.0000          1            0                  0   \n",
       "9995  168.0645     34.6774         11            0                  0   \n",
       "9996   28.7097     28.6774         11            0                  0   \n",
       "9997  165.0968      9.1613         27            0                  0   \n",
       "9998  203.1290     37.5806         14            0                  0   \n",
       "\n",
       "      NUMUNIDSPOSTSIN2T  NUMIDENSIN2T  NUMBAM  NUMM2M  NUM3GPTTSIN2T  ...  \\\n",
       "0                     3             0       0       0              0  ...   \n",
       "1                    12             0       0       0              0  ...   \n",
       "2                    39             0       0       0              0  ...   \n",
       "3                    34             0       1       0              0  ...   \n",
       "4                    18             0       0       0              0  ...   \n",
       "...                 ...           ...     ...     ...            ...  ...   \n",
       "9994                  2             0       0       0              0  ...   \n",
       "9995                 15             0       1       0              0  ...   \n",
       "9996                 10             0       2       0              0  ...   \n",
       "9997                 10             0       0       0              0  ...   \n",
       "9998                  3             0       0       0              0  ...   \n",
       "\n",
       "      NUMTRAFICOPAGADO_U6M  NUMTRAFICOTOTAL_U6M  U_NUMMINUTOSENTRANTE_U3M  \\\n",
       "0             78232.847552         89511.081641                117.650000   \n",
       "1            830468.315813        950201.448747                629.885294   \n",
       "2            390574.310311        452281.958730               1430.050984   \n",
       "3            475397.261585        586872.250817               1002.811765   \n",
       "4            201845.853703        285086.935699               1423.443691   \n",
       "...                    ...                  ...                       ...   \n",
       "9994          30867.538712         36523.198674                274.460833   \n",
       "9995         149795.747355        179015.256062                874.086275   \n",
       "9996         141644.587820        151935.540039                139.716671   \n",
       "9997         175434.237605        203321.844795                274.501190   \n",
       "9998         130524.373484        141645.046380                218.713726   \n",
       "\n",
       "      U_NUMMINUTOSALIENTE_U3M  U_NUMMINSALIENTEOFFNET_U3M  \\\n",
       "0                   89.238235                   84.489376   \n",
       "1                  730.229412                  356.509812   \n",
       "2                 2100.218669                 1192.424924   \n",
       "3                 1454.029412                  818.119682   \n",
       "4                 1751.274478                 1003.035470   \n",
       "...                       ...                         ...   \n",
       "9994               384.321667                  267.985160   \n",
       "9995              1319.504902                  902.506024   \n",
       "9996               173.470588                  179.162753   \n",
       "9997               936.435714                  585.381043   \n",
       "9998               180.062745                  119.970535   \n",
       "\n",
       "      U_NUMMINENTRANTEOFFNET_U3M  U_NUMMINSALIENTEONNET_U3M  \\\n",
       "0                      84.322517                  12.812584   \n",
       "1                     223.880500                 373.719600   \n",
       "2                     671.688476                 907.793746   \n",
       "3                     466.384294                 635.934243   \n",
       "4                     707.146106                 748.239125   \n",
       "...                          ...                        ...   \n",
       "9994                  174.645260                 116.336540   \n",
       "9995                  553.859894                 416.998878   \n",
       "9996                   97.839288                  50.298029   \n",
       "9997                  204.839721                 355.940386   \n",
       "9998                  125.751976                  60.092249   \n",
       "\n",
       "      U_NUMMINENTRANTEONNET_U3M  U_NUMTRAFICOFACEBOOK_U3M  \\\n",
       "0                     33.327482                  1.712867   \n",
       "1                    406.004794                194.930192   \n",
       "2                    758.755689                225.046418   \n",
       "3                    538.113733                102.746829   \n",
       "4                    716.510362                 92.362968   \n",
       "...                         ...                       ...   \n",
       "9994                  99.815573                149.140893   \n",
       "9995                 320.226380                 75.257677   \n",
       "9996                  41.877382                  3.583887   \n",
       "9997                  69.832921                284.231151   \n",
       "9998                  92.961690                  5.388790   \n",
       "\n",
       "      U_NUMTRAFICOWHATSAPP_U3M  \n",
       "0                   272.137208  \n",
       "1                  2151.306892  \n",
       "2                  1031.065128  \n",
       "3                   898.947768  \n",
       "4                  1155.809031  \n",
       "...                        ...  \n",
       "9994                121.702282  \n",
       "9995                568.208860  \n",
       "9996                167.281278  \n",
       "9997                903.155346  \n",
       "9998                229.169539  \n",
       "\n",
       "[9999 rows x 200 columns]"
      ]
     },
     "execution_count": 20,
     "metadata": {},
     "output_type": "execute_result"
    }
   ],
   "source": [
    "df[features_num]"
   ]
  },
  {
   "cell_type": "code",
   "execution_count": 12,
   "metadata": {},
   "outputs": [
    {
     "data": {
      "text/html": [
       "<div>\n",
       "<style scoped>\n",
       "    .dataframe tbody tr th:only-of-type {\n",
       "        vertical-align: middle;\n",
       "    }\n",
       "\n",
       "    .dataframe tbody tr th {\n",
       "        vertical-align: top;\n",
       "    }\n",
       "\n",
       "    .dataframe thead th {\n",
       "        text-align: right;\n",
       "    }\n",
       "</style>\n",
       "<table border=\"1\" class=\"dataframe\">\n",
       "  <thead>\n",
       "    <tr style=\"text-align: right;\">\n",
       "      <th></th>\n",
       "      <th>cantidad</th>\n",
       "    </tr>\n",
       "  </thead>\n",
       "  <tbody>\n",
       "    <tr>\n",
       "      <th>ANT_CLI</th>\n",
       "      <td>0</td>\n",
       "    </tr>\n",
       "    <tr>\n",
       "      <th>ANT_ACTIVA</th>\n",
       "      <td>0</td>\n",
       "    </tr>\n",
       "    <tr>\n",
       "      <th>DIA_VENTA</th>\n",
       "      <td>0</td>\n",
       "    </tr>\n",
       "    <tr>\n",
       "      <th>NUMUNIDSPRE</th>\n",
       "      <td>0</td>\n",
       "    </tr>\n",
       "    <tr>\n",
       "      <th>NUMUNIDS2TERMINAL</th>\n",
       "      <td>0</td>\n",
       "    </tr>\n",
       "  </tbody>\n",
       "</table>\n",
       "</div>"
      ],
      "text/plain": [
       "                   cantidad\n",
       "ANT_CLI                   0\n",
       "ANT_ACTIVA                0\n",
       "DIA_VENTA                 0\n",
       "NUMUNIDSPRE               0\n",
       "NUMUNIDS2TERMINAL         0"
      ]
     },
     "execution_count": 12,
     "metadata": {},
     "output_type": "execute_result"
    }
   ],
   "source": [
    "# vacios\n",
    "nulos = pd.DataFrame(df[features_num].isnull().sum(), columns = ['cantidad'])\n",
    "nulos.head()"
   ]
  },
  {
   "cell_type": "code",
   "execution_count": 15,
   "metadata": {},
   "outputs": [
    {
     "data": {
      "text/plain": [
       "array(['PENALIDAD', 'MIN_NUMINGRESOTEORICO', 'MAX_NUMINGRESOTEORICO',\n",
       "       'AVG_NUMINGRESOTEORICO', 'SUM_NUMINGRESOTEORICO',\n",
       "       'NUMTRAFICOYOUTUBEPAGADO_U6M', 'NUMTRAFICOYOUTUBEPAGADO_U3M'],\n",
       "      dtype=object)"
      ]
     },
     "execution_count": 15,
     "metadata": {},
     "output_type": "execute_result"
    }
   ],
   "source": [
    "# reemplazar por cero los NAs\n",
    "features_na = (nulos[nulos['cantidad']>0].sort_values('cantidad',ascending=False)/df.shape[0]*100).index.values\n",
    "features_na"
   ]
  },
  {
   "cell_type": "code",
   "execution_count": 16,
   "metadata": {},
   "outputs": [
    {
     "data": {
      "text/plain": [
       "['PENALIDAD',\n",
       " 'MIN_NUMINGRESOTEORICO',\n",
       " 'MAX_NUMINGRESOTEORICO',\n",
       " 'AVG_NUMINGRESOTEORICO',\n",
       " 'SUM_NUMINGRESOTEORICO',\n",
       " 'NUMTRAFICOYOUTUBEPAGADO_U6M',\n",
       " 'NUMTRAFICOYOUTUBEPAGADO_U3M']"
      ]
     },
     "execution_count": 16,
     "metadata": {},
     "output_type": "execute_result"
    }
   ],
   "source": [
    "nulos_num = list(df[features_na].select_dtypes(include=[int,float,np.int64,np.float64]).columns)\n",
    "nulos_num"
   ]
  },
  {
   "cell_type": "code",
   "execution_count": 17,
   "metadata": {},
   "outputs": [],
   "source": [
    "df[nulos_num] = df[nulos_num].fillna(0)"
   ]
  },
  {
   "cell_type": "code",
   "execution_count": 19,
   "metadata": {
    "scrolled": false
   },
   "outputs": [],
   "source": [
    "df_scala = StandardScaler().fit_transform(df[features_num])"
   ]
  },
  {
   "cell_type": "code",
   "execution_count": 20,
   "metadata": {},
   "outputs": [
    {
     "data": {
      "text/plain": [
       "array([[-0.79363315,  0.76136512,  0.56053013, ..., -0.94803055,\n",
       "        -0.53839985, -0.62774977],\n",
       "       [ 0.85391293, -0.83985643,  0.56053013, ..., -0.08147576,\n",
       "         0.28457147,  0.76580542],\n",
       "       [ 0.9652391 , -0.95214383,  1.04994165, ...,  0.73874583,\n",
       "         0.41284563, -0.06494378],\n",
       "       ...,\n",
       "       [-0.76447604,  0.93653179, -1.39711596, ..., -0.9281502 ,\n",
       "        -0.5304306 , -0.70550886],\n",
       "       [ 0.83649543, -0.42214646,  0.56053013, ..., -0.86314756,\n",
       "         0.6649314 , -0.15979916],\n",
       "       [ 1.28293404,  1.55635769, -1.03005732, ..., -0.80936821,\n",
       "        -0.52274297, -0.65961374]])"
      ]
     },
     "execution_count": 20,
     "metadata": {},
     "output_type": "execute_result"
    }
   ],
   "source": [
    "df_scala"
   ]
  },
  {
   "cell_type": "code",
   "execution_count": 21,
   "metadata": {},
   "outputs": [
    {
     "data": {
      "text/plain": [
       "Text(0.5, 1.0, 'Incorrecto NUMERO DE CLUSTERS')"
      ]
     },
     "execution_count": 21,
     "metadata": {},
     "output_type": "execute_result"
    },
    {
     "data": {
      "image/png": "[encoded data removed]",
      "text/plain": [
       "<Figure size 2160x2160 with 1 Axes>"
      ]
     },
     "metadata": {
      "needs_background": "light"
     },
     "output_type": "display_data"
    }
   ],
   "source": [
    "# Incorrect number of clusters\n",
    "y_pred = KMeans(n_clusters = 3, random_state=170).fit_predict(df_scala)\n",
    "\n",
    "plt.figure(figsize=(30, 30))\n",
    "plt.subplot(221)\n",
    "plt.scatter(df_scala[:, 0], df_scala[:, 1], c=y_pred)\n",
    "plt.title(\"Incorrecto NUMERO DE CLUSTERS\")\n"
   ]
  },
  {
   "cell_type": "markdown",
   "metadata": {},
   "source": [
    "# DBSCAN"
   ]
  },
  {
   "cell_type": "code",
   "execution_count": 58,
   "metadata": {},
   "outputs": [
    {
     "data": {
      "text/plain": [
       "(9999, 200)"
      ]
     },
     "execution_count": 58,
     "metadata": {},
     "output_type": "execute_result"
    }
   ],
   "source": [
    "df_scala.shape"
   ]
  },
  {
   "cell_type": "code",
   "execution_count": 22,
   "metadata": {},
   "outputs": [],
   "source": [
    "# Computar DBSCAN\n",
    "db = DBSCAN(eps=10, min_samples=6).fit(df_scala) # PROBAR CON 7 Y 0.15\n",
    "core_samples_mask = np.zeros_like(db.labels_, dtype=bool)\n",
    "core_samples_mask[db.core_sample_indices_] = True\n",
    "labels = db.labels_\n",
    "\n",
    "# Número de grupos en las etiquetas, ignorando el ruido si está presente.\n",
    "n_clusters_ = len(set(labels)) - (1 if -1 in labels else 0)\n",
    "n_noise_ = list(labels).count(-1)"
   ]
  },
  {
   "cell_type": "code",
   "execution_count": 32,
   "metadata": {
    "scrolled": true
   },
   "outputs": [
    {
     "data": {
      "text/plain": [
       "4"
      ]
     },
     "execution_count": 32,
     "metadata": {},
     "output_type": "execute_result"
    }
   ],
   "source": [
    "n_clusters_"
   ]
  },
  {
   "cell_type": "code",
   "execution_count": 33,
   "metadata": {},
   "outputs": [
    {
     "data": {
      "text/plain": [
       "(750,)"
      ]
     },
     "execution_count": 33,
     "metadata": {},
     "output_type": "execute_result"
    }
   ],
   "source": [
    "labels_true.shape"
   ]
  },
  {
   "cell_type": "code",
   "execution_count": 34,
   "metadata": {},
   "outputs": [
    {
     "data": {
      "text/plain": [
       "(9999,)"
      ]
     },
     "execution_count": 34,
     "metadata": {},
     "output_type": "execute_result"
    }
   ],
   "source": [
    "labels.shape"
   ]
  },
  {
   "cell_type": "code",
   "execution_count": 35,
   "metadata": {},
   "outputs": [
    {
     "ename": "IndexError",
     "evalue": "boolean index did not match indexed array along dimension 0; dimension is 750 but corresponding boolean dimension is 9999",
     "output_type": "error",
     "traceback": [
      "\u001b[1;31m---------------------------------------------------------------------------\u001b[0m",
      "\u001b[1;31mIndexError\u001b[0m                                Traceback (most recent call last)",
      "\u001b[1;32m<ipython-input-35-2e1d99e087d6>\u001b[0m in \u001b[0;36m<module>\u001b[1;34m\u001b[0m\n\u001b[0;32m     13\u001b[0m     \u001b[0mclass_member_mask\u001b[0m \u001b[1;33m=\u001b[0m \u001b[1;33m(\u001b[0m\u001b[0mlabels\u001b[0m \u001b[1;33m==\u001b[0m \u001b[0mk\u001b[0m\u001b[1;33m)\u001b[0m\u001b[1;33m\u001b[0m\u001b[1;33m\u001b[0m\u001b[0m\n\u001b[0;32m     14\u001b[0m \u001b[1;33m\u001b[0m\u001b[0m\n\u001b[1;32m---> 15\u001b[1;33m     \u001b[0mxy\u001b[0m \u001b[1;33m=\u001b[0m \u001b[0mX\u001b[0m\u001b[1;33m[\u001b[0m\u001b[0mclass_member_mask\u001b[0m \u001b[1;33m&\u001b[0m \u001b[0mcore_samples_mask\u001b[0m\u001b[1;33m]\u001b[0m\u001b[1;33m\u001b[0m\u001b[1;33m\u001b[0m\u001b[0m\n\u001b[0m\u001b[0;32m     16\u001b[0m     plt.plot(xy[:, 0], xy[:, 1], 'o', markerfacecolor=tuple(col),\n\u001b[0;32m     17\u001b[0m              markeredgecolor='k', markersize=14)\n",
      "\u001b[1;31mIndexError\u001b[0m: boolean index did not match indexed array along dimension 0; dimension is 750 but corresponding boolean dimension is 9999"
     ]
    },
    {
     "data": {
      "text/plain": [
       "<Figure size 1440x1440 with 0 Axes>"
      ]
     },
     "metadata": {},
     "output_type": "display_data"
    }
   ],
   "source": [
    "# Plot resultado\n",
    "import matplotlib.pyplot as plt\n",
    "\n",
    "plt.figure(figsize=(20, 20))\n",
    "unique_labels = set(labels)\n",
    "colors = [plt.cm.Spectral(each)\n",
    "          for each in np.linspace(0, 1, len(unique_labels))]\n",
    "for k, col in zip(unique_labels, colors):\n",
    "    if k == -1:\n",
    "        # Black used for noise.\n",
    "        col = [0, 0, 0, 1]\n",
    "\n",
    "    class_member_mask = (labels == k)\n",
    "\n",
    "    xy = X[class_member_mask & core_samples_mask]\n",
    "    plt.plot(xy[:, 0], xy[:, 1], 'o', markerfacecolor=tuple(col),\n",
    "             markeredgecolor='k', markersize=14)\n",
    "\n",
    "    xy = X[class_member_mask & ~core_samples_mask]\n",
    "    plt.plot(xy[:, 0], xy[:, 1], 'o', markerfacecolor=tuple(col),\n",
    "             markeredgecolor='k', markersize=6)\n",
    "\n",
    "plt.title('Estimated number of clusters: %d' % n_clusters_)\n",
    "plt.show()"
   ]
  },
  {
   "cell_type": "markdown",
   "metadata": {},
   "source": [
    "# JERARQUICO"
   ]
  },
  {
   "cell_type": "code",
   "execution_count": 36,
   "metadata": {},
   "outputs": [],
   "source": [
    "from sklearn.cluster import AgglomerativeClustering\n",
    "import numpy as np"
   ]
  },
  {
   "cell_type": "code",
   "execution_count": 37,
   "metadata": {},
   "outputs": [
    {
     "data": {
      "text/plain": [
       "AgglomerativeClustering(affinity='euclidean', compute_full_tree='auto',\n",
       "                        connectivity=None, distance_threshold=None,\n",
       "                        linkage='ward', memory=None, n_clusters=2,\n",
       "                        pooling_func='deprecated')"
      ]
     },
     "execution_count": 37,
     "metadata": {},
     "output_type": "execute_result"
    }
   ],
   "source": [
    "clustering = AgglomerativeClustering().fit(df_scala)\n",
    "clustering \n",
    "AgglomerativeClustering(affinity='euclidean', compute_full_tree='auto',\n",
    "                        connectivity=None, \n",
    "                        linkage='ward', memory=None, n_clusters=2,\n",
    "                        pooling_func='deprecated')"
   ]
  },
  {
   "cell_type": "code",
   "execution_count": 38,
   "metadata": {},
   "outputs": [
    {
     "data": {
      "text/plain": [
       "array([1, 0, 0, ..., 1, 1, 1], dtype=int64)"
      ]
     },
     "execution_count": 38,
     "metadata": {},
     "output_type": "execute_result"
    }
   ],
   "source": [
    "clustering.labels_"
   ]
  },
  {
   "cell_type": "code",
   "execution_count": 39,
   "metadata": {},
   "outputs": [
    {
     "data": {
      "image/png": "[encoded data removed]",
      "text/plain": [
       "<Figure size 720x576 with 1 Axes>"
      ]
     },
     "metadata": {
      "needs_background": "light"
     },
     "output_type": "display_data"
    }
   ],
   "source": [
    "from matplotlib import pyplot as plt\n",
    "from scipy.cluster.hierarchy import dendrogram, linkage\n",
    "import numpy as np\n",
    "\n",
    "Z = linkage(df_scala, 'ward')\n",
    "\n",
    "plt.figure(figsize=(10, 8))\n",
    "plt.title('Dendograma jerárquico')\n",
    "plt.ylabel('Distancia')\n",
    "max_d = 10\n",
    "dendrogram(\n",
    "        Z,\n",
    "        leaf_rotation=90.,  \n",
    "        leaf_font_size=8.,  \n",
    "        show_contracted=True\n",
    "    )\n",
    "plt.axhline(y=max_d, c='k')\n",
    "plt.show()"
   ]
  },
  {
   "cell_type": "code",
   "execution_count": 25,
   "metadata": {},
   "outputs": [
    {
     "data": {
      "text/plain": [
       "6"
      ]
     },
     "execution_count": 25,
     "metadata": {},
     "output_type": "execute_result"
    }
   ],
   "source": [
    ">>> pairs = [(1, 'a'), (2, 'b'), (3, 'c')]\n",
    ">>> sum(x for x, _ in pairs)\n",
    "6"
   ]
  },
  {
   "cell_type": "code",
   "execution_count": 29,
   "metadata": {},
   "outputs": [
    {
     "ename": "IndexError",
     "evalue": "tuple index out of range",
     "output_type": "error",
     "traceback": [
      "\u001b[0;31m---------------------------------------------------------------------------\u001b[0m",
      "\u001b[0;31mIndexError\u001b[0m                                Traceback (most recent call last)",
      "\u001b[0;32m<ipython-input-29-e15feb089348>\u001b[0m in \u001b[0;36m<module>\u001b[0;34m\u001b[0m\n\u001b[1;32m      1\u001b[0m \u001b[0mpairs\u001b[0m \u001b[0;34m=\u001b[0m \u001b[0;34m[\u001b[0m\u001b[0;34m(\u001b[0m\u001b[0;36m1\u001b[0m\u001b[0;34m,\u001b[0m \u001b[0;34m'a'\u001b[0m\u001b[0;34m)\u001b[0m\u001b[0;34m,\u001b[0m \u001b[0;34m(\u001b[0m\u001b[0;36m2\u001b[0m\u001b[0;34m,\u001b[0m \u001b[0;34m'b'\u001b[0m\u001b[0;34m)\u001b[0m\u001b[0;34m,\u001b[0m \u001b[0;34m(\u001b[0m\u001b[0;36m3\u001b[0m\u001b[0;34m,\u001b[0m \u001b[0;34m'c'\u001b[0m\u001b[0;34m)\u001b[0m\u001b[0;34m]\u001b[0m\u001b[0;34m\u001b[0m\u001b[0;34m\u001b[0m\u001b[0m\n\u001b[0;32m----> 2\u001b[0;31m \u001b[0msum\u001b[0m\u001b[0;34m(\u001b[0m\u001b[0mx\u001b[0m\u001b[0;34m[\u001b[0m\u001b[0;36m2\u001b[0m\u001b[0;34m]\u001b[0m \u001b[0;32mfor\u001b[0m \u001b[0mx\u001b[0m \u001b[0;32min\u001b[0m \u001b[0mpairs\u001b[0m\u001b[0;34m)\u001b[0m\u001b[0;34m\u001b[0m\u001b[0;34m\u001b[0m\u001b[0m\n\u001b[0m",
      "\u001b[0;32m<ipython-input-29-e15feb089348>\u001b[0m in \u001b[0;36m<genexpr>\u001b[0;34m(.0)\u001b[0m\n\u001b[1;32m      1\u001b[0m \u001b[0mpairs\u001b[0m \u001b[0;34m=\u001b[0m \u001b[0;34m[\u001b[0m\u001b[0;34m(\u001b[0m\u001b[0;36m1\u001b[0m\u001b[0;34m,\u001b[0m \u001b[0;34m'a'\u001b[0m\u001b[0;34m)\u001b[0m\u001b[0;34m,\u001b[0m \u001b[0;34m(\u001b[0m\u001b[0;36m2\u001b[0m\u001b[0;34m,\u001b[0m \u001b[0;34m'b'\u001b[0m\u001b[0;34m)\u001b[0m\u001b[0;34m,\u001b[0m \u001b[0;34m(\u001b[0m\u001b[0;36m3\u001b[0m\u001b[0;34m,\u001b[0m \u001b[0;34m'c'\u001b[0m\u001b[0;34m)\u001b[0m\u001b[0;34m]\u001b[0m\u001b[0;34m\u001b[0m\u001b[0;34m\u001b[0m\u001b[0m\n\u001b[0;32m----> 2\u001b[0;31m \u001b[0msum\u001b[0m\u001b[0;34m(\u001b[0m\u001b[0mx\u001b[0m\u001b[0;34m[\u001b[0m\u001b[0;36m2\u001b[0m\u001b[0;34m]\u001b[0m \u001b[0;32mfor\u001b[0m \u001b[0mx\u001b[0m \u001b[0;32min\u001b[0m \u001b[0mpairs\u001b[0m\u001b[0;34m)\u001b[0m\u001b[0;34m\u001b[0m\u001b[0;34m\u001b[0m\u001b[0m\n\u001b[0m",
      "\u001b[0;31mIndexError\u001b[0m: tuple index out of range"
     ]
    }
   ],
   "source": [
    ">>> pairs = [(1, 'a'), (2, 'b'), (3, 'c')]\n",
    ">>> sum(x[2] for x in pairs)\n"
   ]
  },
  {
   "cell_type": "code",
   "execution_count": 37,
   "metadata": {},
   "outputs": [
    {
     "data": {
      "text/plain": [
       "'Full name: Guido Van Rossum'"
      ]
     },
     "execution_count": 37,
     "metadata": {},
     "output_type": "execute_result"
    }
   ],
   "source": [
    ">>> full_name = lambda first, last: f'Full name: {first.title()} {last.title()}'\n",
    ">>> full_name('guido', 'van rossum')"
   ]
  },
  {
   "cell_type": "code",
   "execution_count": 61,
   "metadata": {},
   "outputs": [
    {
     "name": "stdout",
     "output_type": "stream",
     "text": [
      "[TRACE] func: {f.__name__}, args: {args}, kwargs: {kwargs}\n",
      "[TRACE] func: {f.__name__}, args: {args}, kwargs: {kwargs}\n",
      "9\n"
     ]
    }
   ],
   "source": [
    "# Defining a decorator\n",
    "\n",
    "def trace(f):\n",
    "\n",
    "    def wrap(*args, **kwargs):\n",
    "\n",
    "        print(f\"[TRACE] func: {f.__name__}, args: {args}, kwargs: {kwargs}\")\n",
    "\n",
    "        return f(*args, **kwargs)\n",
    "\n",
    "\n",
    "    return wrap\n",
    "# Applying decorator to a function\n",
    "\n",
    "@trace\n",
    "\n",
    "def add_two(x):\n",
    "    return x + 2\n",
    "\n",
    "\n",
    "# Calling the decorated function\n",
    "\n",
    "add_two(4)\n",
    "\n",
    "\n",
    "# Applying decorator to a lambda\n",
    "\n",
    "print((trace(lambda x: x ** 2))(3))\n"
   ]
  },
  {
   "cell_type": "code",
   "execution_count": 89,
   "metadata": {},
   "outputs": [],
   "source": [
    "import shapefile\n"
   ]
  },
  {
   "cell_type": "code",
   "execution_count": 90,
   "metadata": {},
   "outputs": [],
   "source": [
    "shape = shapefile.Reader(\"/Users/michelfelipepedrazacardenas/Downloads/cartodb-query/prueba.shp\")\n"
   ]
  },
  {
   "cell_type": "code",
   "execution_count": 91,
   "metadata": {},
   "outputs": [
    {
     "data": {
      "text/plain": [
       "<shapefile.Reader at 0x7fcb9253fd90>"
      ]
     },
     "execution_count": 91,
     "metadata": {},
     "output_type": "execute_result"
    }
   ],
   "source": [
    "shape"
   ]
  },
  {
   "cell_type": "code",
   "execution_count": 96,
   "metadata": {},
   "outputs": [
    {
     "ename": "ShapefileException",
     "evalue": "Shapefile Reader requires a shapefile or file-like object. (no dbf file found)",
     "output_type": "error",
     "traceback": [
      "\u001b[0;31m---------------------------------------------------------------------------\u001b[0m",
      "\u001b[0;31mShapefileException\u001b[0m                        Traceback (most recent call last)",
      "\u001b[0;32m<ipython-input-96-42f04730da5c>\u001b[0m in \u001b[0;36m<module>\u001b[0;34m\u001b[0m\n\u001b[1;32m      5\u001b[0m \u001b[0;34m\u001b[0m\u001b[0m\n\u001b[1;32m      6\u001b[0m \u001b[0mplt\u001b[0m\u001b[0;34m.\u001b[0m\u001b[0mfigure\u001b[0m\u001b[0;34m(\u001b[0m\u001b[0;34m)\u001b[0m\u001b[0;34m\u001b[0m\u001b[0;34m\u001b[0m\u001b[0m\n\u001b[0;32m----> 7\u001b[0;31m \u001b[0;32mfor\u001b[0m \u001b[0mshape\u001b[0m \u001b[0;32min\u001b[0m \u001b[0msf\u001b[0m\u001b[0;34m.\u001b[0m\u001b[0mshapeRecords\u001b[0m\u001b[0;34m(\u001b[0m\u001b[0;34m)\u001b[0m\u001b[0;34m:\u001b[0m\u001b[0;34m\u001b[0m\u001b[0;34m\u001b[0m\u001b[0m\n\u001b[0m\u001b[1;32m      8\u001b[0m     \u001b[0mx\u001b[0m \u001b[0;34m=\u001b[0m \u001b[0;34m[\u001b[0m\u001b[0mi\u001b[0m\u001b[0;34m[\u001b[0m\u001b[0;36m0\u001b[0m\u001b[0;34m]\u001b[0m \u001b[0;32mfor\u001b[0m \u001b[0mi\u001b[0m \u001b[0;32min\u001b[0m \u001b[0mshape\u001b[0m\u001b[0;34m.\u001b[0m\u001b[0mshape\u001b[0m\u001b[0;34m.\u001b[0m\u001b[0mpoints\u001b[0m\u001b[0;34m[\u001b[0m\u001b[0;34m:\u001b[0m\u001b[0;34m]\u001b[0m\u001b[0;34m]\u001b[0m\u001b[0;34m\u001b[0m\u001b[0;34m\u001b[0m\u001b[0m\n\u001b[1;32m      9\u001b[0m     \u001b[0my\u001b[0m \u001b[0;34m=\u001b[0m \u001b[0;34m[\u001b[0m\u001b[0mi\u001b[0m\u001b[0;34m[\u001b[0m\u001b[0;36m1\u001b[0m\u001b[0;34m]\u001b[0m \u001b[0;32mfor\u001b[0m \u001b[0mi\u001b[0m \u001b[0;32min\u001b[0m \u001b[0mshape\u001b[0m\u001b[0;34m.\u001b[0m\u001b[0mshape\u001b[0m\u001b[0;34m.\u001b[0m\u001b[0mpoints\u001b[0m\u001b[0;34m[\u001b[0m\u001b[0;34m:\u001b[0m\u001b[0;34m]\u001b[0m\u001b[0;34m]\u001b[0m\u001b[0;34m\u001b[0m\u001b[0;34m\u001b[0m\u001b[0m\n",
      "\u001b[0;32m~/opt/anaconda3/lib/python3.7/site-packages/shapefile.py\u001b[0m in \u001b[0;36mshapeRecords\u001b[0;34m(self)\u001b[0m\n\u001b[1;32m   1037\u001b[0m         all records in a shapefile.\"\"\"\n\u001b[1;32m   1038\u001b[0m         return ShapeRecords([ShapeRecord(shape=rec[0], record=rec[1]) \\\n\u001b[0;32m-> 1039\u001b[0;31m                                 for rec in zip(self.shapes(), self.records())])\n\u001b[0m\u001b[1;32m   1040\u001b[0m \u001b[0;34m\u001b[0m\u001b[0m\n\u001b[1;32m   1041\u001b[0m     \u001b[0;32mdef\u001b[0m \u001b[0miterShapeRecords\u001b[0m\u001b[0;34m(\u001b[0m\u001b[0mself\u001b[0m\u001b[0;34m)\u001b[0m\u001b[0;34m:\u001b[0m\u001b[0;34m\u001b[0m\u001b[0;34m\u001b[0m\u001b[0m\n",
      "\u001b[0;32m~/opt/anaconda3/lib/python3.7/site-packages/shapefile.py\u001b[0m in \u001b[0;36mrecords\u001b[0;34m(self)\u001b[0m\n\u001b[1;32m   1005\u001b[0m         \u001b[0;34m\"\"\"Returns all records in a dbf file.\"\"\"\u001b[0m\u001b[0;34m\u001b[0m\u001b[0;34m\u001b[0m\u001b[0m\n\u001b[1;32m   1006\u001b[0m         \u001b[0;32mif\u001b[0m \u001b[0mself\u001b[0m\u001b[0;34m.\u001b[0m\u001b[0mnumRecords\u001b[0m \u001b[0;32mis\u001b[0m \u001b[0;32mNone\u001b[0m\u001b[0;34m:\u001b[0m\u001b[0;34m\u001b[0m\u001b[0;34m\u001b[0m\u001b[0m\n\u001b[0;32m-> 1007\u001b[0;31m             \u001b[0mself\u001b[0m\u001b[0;34m.\u001b[0m\u001b[0m__dbfHeader\u001b[0m\u001b[0;34m(\u001b[0m\u001b[0;34m)\u001b[0m\u001b[0;34m\u001b[0m\u001b[0;34m\u001b[0m\u001b[0m\n\u001b[0m\u001b[1;32m   1008\u001b[0m         \u001b[0mrecords\u001b[0m \u001b[0;34m=\u001b[0m \u001b[0;34m[\u001b[0m\u001b[0;34m]\u001b[0m\u001b[0;34m\u001b[0m\u001b[0;34m\u001b[0m\u001b[0m\n\u001b[1;32m   1009\u001b[0m         \u001b[0mf\u001b[0m \u001b[0;34m=\u001b[0m \u001b[0mself\u001b[0m\u001b[0;34m.\u001b[0m\u001b[0m__getFileObj\u001b[0m\u001b[0;34m(\u001b[0m\u001b[0mself\u001b[0m\u001b[0;34m.\u001b[0m\u001b[0mdbf\u001b[0m\u001b[0;34m)\u001b[0m\u001b[0;34m\u001b[0m\u001b[0;34m\u001b[0m\u001b[0m\n",
      "\u001b[0;32m~/opt/anaconda3/lib/python3.7/site-packages/shapefile.py\u001b[0m in \u001b[0;36m__dbfHeader\u001b[0;34m(self)\u001b[0m\n\u001b[1;32m    882\u001b[0m         \u001b[0;34m\"\"\"Reads a dbf header. Xbase-related code borrows heavily from ActiveState Python Cookbook Recipe 362715 by Raymond Hettinger\"\"\"\u001b[0m\u001b[0;34m\u001b[0m\u001b[0;34m\u001b[0m\u001b[0m\n\u001b[1;32m    883\u001b[0m         \u001b[0;32mif\u001b[0m \u001b[0;32mnot\u001b[0m \u001b[0mself\u001b[0m\u001b[0;34m.\u001b[0m\u001b[0mdbf\u001b[0m\u001b[0;34m:\u001b[0m\u001b[0;34m\u001b[0m\u001b[0;34m\u001b[0m\u001b[0m\n\u001b[0;32m--> 884\u001b[0;31m             \u001b[0;32mraise\u001b[0m \u001b[0mShapefileException\u001b[0m\u001b[0;34m(\u001b[0m\u001b[0;34m\"Shapefile Reader requires a shapefile or file-like object. (no dbf file found)\"\u001b[0m\u001b[0;34m)\u001b[0m\u001b[0;34m\u001b[0m\u001b[0;34m\u001b[0m\u001b[0m\n\u001b[0m\u001b[1;32m    885\u001b[0m         \u001b[0mdbf\u001b[0m \u001b[0;34m=\u001b[0m \u001b[0mself\u001b[0m\u001b[0;34m.\u001b[0m\u001b[0mdbf\u001b[0m\u001b[0;34m\u001b[0m\u001b[0;34m\u001b[0m\u001b[0m\n\u001b[1;32m    886\u001b[0m         \u001b[0;31m# read relevant header parts\u001b[0m\u001b[0;34m\u001b[0m\u001b[0;34m\u001b[0m\u001b[0;34m\u001b[0m\u001b[0m\n",
      "\u001b[0;31mShapefileException\u001b[0m: Shapefile Reader requires a shapefile or file-like object. (no dbf file found)"
     ]
    },
    {
     "data": {
      "text/plain": [
       "<Figure size 432x288 with 0 Axes>"
      ]
     },
     "metadata": {},
     "output_type": "display_data"
    }
   ],
   "source": [
    "import shapefile as shp  # Requires the pyshp package\n",
    "import matplotlib.pyplot as plt\n",
    "\n",
    "sf = shp.Reader(\"/Users/michelfelipepedrazacardenas/Downloads/cartodb-query/prueba.shp\")\n",
    "\n",
    "plt.figure()\n",
    "for shape in sf.shapeRecords():\n",
    "    x = [i[0] for i in shape.shape.points[:]]\n",
    "    y = [i[1] for i in shape.shape.points[:]]\n",
    "    plt.plot(x,y)\n",
    "plt.show()"
   ]
  },
  {
   "cell_type": "code",
   "execution_count": 101,
   "metadata": {},
   "outputs": [
    {
     "ename": "ShapefileException",
     "evalue": "Shapefile Reader requires a shapefile or file-like object. (no dbf file found)",
     "output_type": "error",
     "traceback": [
      "\u001b[0;31m---------------------------------------------------------------------------\u001b[0m",
      "\u001b[0;31mShapefileException\u001b[0m                        Traceback (most recent call last)",
      "\u001b[0;32m<ipython-input-101-cc83c0a0059d>\u001b[0m in \u001b[0;36m<module>\u001b[0;34m\u001b[0m\n\u001b[0;32m----> 1\u001b[0;31m \u001b[0;32mfor\u001b[0m \u001b[0mshape\u001b[0m \u001b[0;32min\u001b[0m \u001b[0msf\u001b[0m\u001b[0;34m.\u001b[0m\u001b[0mshapeRecords\u001b[0m\u001b[0;34m(\u001b[0m\u001b[0;34m)\u001b[0m\u001b[0;34m:\u001b[0m\u001b[0;34m\u001b[0m\u001b[0;34m\u001b[0m\u001b[0m\n\u001b[0m\u001b[1;32m      2\u001b[0m     \u001b[0mx\u001b[0m \u001b[0;34m=\u001b[0m \u001b[0;34m[\u001b[0m\u001b[0mi\u001b[0m\u001b[0;34m[\u001b[0m\u001b[0;36m0\u001b[0m\u001b[0;34m]\u001b[0m \u001b[0;32mfor\u001b[0m \u001b[0mi\u001b[0m \u001b[0;32min\u001b[0m \u001b[0mshape\u001b[0m\u001b[0;34m.\u001b[0m\u001b[0mshape\u001b[0m\u001b[0;34m.\u001b[0m\u001b[0mpoints\u001b[0m\u001b[0;34m[\u001b[0m\u001b[0;34m:\u001b[0m\u001b[0;34m]\u001b[0m\u001b[0;34m]\u001b[0m\u001b[0;34m\u001b[0m\u001b[0;34m\u001b[0m\u001b[0m\n\u001b[1;32m      3\u001b[0m     \u001b[0my\u001b[0m \u001b[0;34m=\u001b[0m \u001b[0;34m[\u001b[0m\u001b[0mi\u001b[0m\u001b[0;34m[\u001b[0m\u001b[0;36m1\u001b[0m\u001b[0;34m]\u001b[0m \u001b[0;32mfor\u001b[0m \u001b[0mi\u001b[0m \u001b[0;32min\u001b[0m \u001b[0mshape\u001b[0m\u001b[0;34m.\u001b[0m\u001b[0mshape\u001b[0m\u001b[0;34m.\u001b[0m\u001b[0mpoints\u001b[0m\u001b[0;34m[\u001b[0m\u001b[0;34m:\u001b[0m\u001b[0;34m]\u001b[0m\u001b[0;34m]\u001b[0m\u001b[0;34m\u001b[0m\u001b[0;34m\u001b[0m\u001b[0m\n\u001b[1;32m      4\u001b[0m     \u001b[0mplt\u001b[0m\u001b[0;34m.\u001b[0m\u001b[0mplot\u001b[0m\u001b[0;34m(\u001b[0m\u001b[0mx\u001b[0m\u001b[0;34m,\u001b[0m\u001b[0my\u001b[0m\u001b[0;34m)\u001b[0m\u001b[0;34m\u001b[0m\u001b[0;34m\u001b[0m\u001b[0m\n\u001b[1;32m      5\u001b[0m \u001b[0;34m\u001b[0m\u001b[0m\n",
      "\u001b[0;32m~/opt/anaconda3/lib/python3.7/site-packages/shapefile.py\u001b[0m in \u001b[0;36mshapeRecords\u001b[0;34m(self)\u001b[0m\n\u001b[1;32m   1037\u001b[0m         all records in a shapefile.\"\"\"\n\u001b[1;32m   1038\u001b[0m         return ShapeRecords([ShapeRecord(shape=rec[0], record=rec[1]) \\\n\u001b[0;32m-> 1039\u001b[0;31m                                 for rec in zip(self.shapes(), self.records())])\n\u001b[0m\u001b[1;32m   1040\u001b[0m \u001b[0;34m\u001b[0m\u001b[0m\n\u001b[1;32m   1041\u001b[0m     \u001b[0;32mdef\u001b[0m \u001b[0miterShapeRecords\u001b[0m\u001b[0;34m(\u001b[0m\u001b[0mself\u001b[0m\u001b[0;34m)\u001b[0m\u001b[0;34m:\u001b[0m\u001b[0;34m\u001b[0m\u001b[0;34m\u001b[0m\u001b[0m\n",
      "\u001b[0;32m~/opt/anaconda3/lib/python3.7/site-packages/shapefile.py\u001b[0m in \u001b[0;36mrecords\u001b[0;34m(self)\u001b[0m\n\u001b[1;32m   1005\u001b[0m         \u001b[0;34m\"\"\"Returns all records in a dbf file.\"\"\"\u001b[0m\u001b[0;34m\u001b[0m\u001b[0;34m\u001b[0m\u001b[0m\n\u001b[1;32m   1006\u001b[0m         \u001b[0;32mif\u001b[0m \u001b[0mself\u001b[0m\u001b[0;34m.\u001b[0m\u001b[0mnumRecords\u001b[0m \u001b[0;32mis\u001b[0m \u001b[0;32mNone\u001b[0m\u001b[0;34m:\u001b[0m\u001b[0;34m\u001b[0m\u001b[0;34m\u001b[0m\u001b[0m\n\u001b[0;32m-> 1007\u001b[0;31m             \u001b[0mself\u001b[0m\u001b[0;34m.\u001b[0m\u001b[0m__dbfHeader\u001b[0m\u001b[0;34m(\u001b[0m\u001b[0;34m)\u001b[0m\u001b[0;34m\u001b[0m\u001b[0;34m\u001b[0m\u001b[0m\n\u001b[0m\u001b[1;32m   1008\u001b[0m         \u001b[0mrecords\u001b[0m \u001b[0;34m=\u001b[0m \u001b[0;34m[\u001b[0m\u001b[0;34m]\u001b[0m\u001b[0;34m\u001b[0m\u001b[0;34m\u001b[0m\u001b[0m\n\u001b[1;32m   1009\u001b[0m         \u001b[0mf\u001b[0m \u001b[0;34m=\u001b[0m \u001b[0mself\u001b[0m\u001b[0;34m.\u001b[0m\u001b[0m__getFileObj\u001b[0m\u001b[0;34m(\u001b[0m\u001b[0mself\u001b[0m\u001b[0;34m.\u001b[0m\u001b[0mdbf\u001b[0m\u001b[0;34m)\u001b[0m\u001b[0;34m\u001b[0m\u001b[0;34m\u001b[0m\u001b[0m\n",
      "\u001b[0;32m~/opt/anaconda3/lib/python3.7/site-packages/shapefile.py\u001b[0m in \u001b[0;36m__dbfHeader\u001b[0;34m(self)\u001b[0m\n\u001b[1;32m    882\u001b[0m         \u001b[0;34m\"\"\"Reads a dbf header. Xbase-related code borrows heavily from ActiveState Python Cookbook Recipe 362715 by Raymond Hettinger\"\"\"\u001b[0m\u001b[0;34m\u001b[0m\u001b[0;34m\u001b[0m\u001b[0m\n\u001b[1;32m    883\u001b[0m         \u001b[0;32mif\u001b[0m \u001b[0;32mnot\u001b[0m \u001b[0mself\u001b[0m\u001b[0;34m.\u001b[0m\u001b[0mdbf\u001b[0m\u001b[0;34m:\u001b[0m\u001b[0;34m\u001b[0m\u001b[0;34m\u001b[0m\u001b[0m\n\u001b[0;32m--> 884\u001b[0;31m             \u001b[0;32mraise\u001b[0m \u001b[0mShapefileException\u001b[0m\u001b[0;34m(\u001b[0m\u001b[0;34m\"Shapefile Reader requires a shapefile or file-like object. (no dbf file found)\"\u001b[0m\u001b[0;34m)\u001b[0m\u001b[0;34m\u001b[0m\u001b[0;34m\u001b[0m\u001b[0m\n\u001b[0m\u001b[1;32m    885\u001b[0m         \u001b[0mdbf\u001b[0m \u001b[0;34m=\u001b[0m \u001b[0mself\u001b[0m\u001b[0;34m.\u001b[0m\u001b[0mdbf\u001b[0m\u001b[0;34m\u001b[0m\u001b[0;34m\u001b[0m\u001b[0m\n\u001b[1;32m    886\u001b[0m         \u001b[0;31m# read relevant header parts\u001b[0m\u001b[0;34m\u001b[0m\u001b[0;34m\u001b[0m\u001b[0;34m\u001b[0m\u001b[0m\n",
      "\u001b[0;31mShapefileException\u001b[0m: Shapefile Reader requires a shapefile or file-like object. (no dbf file found)"
     ]
    }
   ],
   "source": [
    "for shape in sf.shapeRecords():\n",
    "    x = [i[0] for i in shape.shape.points[:]]\n",
    "    y = [i[1] for i in shape.shape.points[:]]\n",
    "    plt.plot(x,y)\n",
    "    \n"
   ]
  },
  {
   "cell_type": "code",
   "execution_count": 97,
   "metadata": {},
   "outputs": [],
   "source": [
    "import shapefile as shp  # Requires the pyshp package\n",
    "import matplotlib.pyplot as plt\n",
    "\n",
    "sf = shp.Reader(\"/Users/michelfelipepedrazacardenas/Downloads/cartodb-query/prueba.shp\")\n"
   ]
  },
  {
   "cell_type": "code",
   "execution_count": 98,
   "metadata": {},
   "outputs": [
    {
     "data": {
      "text/plain": [
       "<Figure size 432x288 with 0 Axes>"
      ]
     },
     "execution_count": 98,
     "metadata": {},
     "output_type": "execute_result"
    },
    {
     "data": {
      "text/plain": [
       "<Figure size 432x288 with 0 Axes>"
      ]
     },
     "metadata": {},
     "output_type": "display_data"
    }
   ],
   "source": [
    "plt.figure()"
   ]
  },
  {
   "cell_type": "code",
   "execution_count": 102,
   "metadata": {},
   "outputs": [
    {
     "data": {
      "image/png": "[encoded data removed]",
      "text/plain": [
       "<Figure size 432x288 with 1 Axes>"
      ]
     },
     "metadata": {
      "needs_background": "light"
     },
     "output_type": "display_data"
    }
   ],
   "source": [
    "import numpy as np\n",
    "from matplotlib import pyplot as p  #contains both numpy and pyplot\n",
    "x1 = [-1,-1,10,10,-1]; y1 = [-1,10,10,-1,-1]\n",
    "x2 = [21,21,29,29,21]; y2 = [21,29,29,21,21]\n",
    "shapes = [[x1,y1],[x2,y2]]\n",
    "for shape in shapes:\n",
    "    x,y = shape\n",
    "    p.plot(x,y)\n",
    "p.show()"
   ]
  },
  {
   "cell_type": "code",
   "execution_count": 108,
   "metadata": {},
   "outputs": [],
   "source": [
    "####CATASTRO"
   ]
  },
  {
   "cell_type": "code",
   "execution_count": null,
   "metadata": {},
   "outputs": [],
   "source": []
  },
  {
   "cell_type": "code",
   "execution_count": null,
   "metadata": {},
   "outputs": [],
   "source": [
    "import geopandas as gpd"
   ]
  },
  {
   "cell_type": "code",
   "execution_count": 109,
   "metadata": {},
   "outputs": [],
   "source": [
    "import matplotlib.pyplot as plt"
   ]
  },
  {
   "cell_type": "code",
   "execution_count": 116,
   "metadata": {},
   "outputs": [],
   "source": [
    "zipfile = \"zip:///Users/michelfelipepedrazacardenas/Downloads/cartodb.zip\"\n",
    "gdf=gpd.read_file(zipfile)"
   ]
  },
  {
   "cell_type": "code",
   "execution_count": 117,
   "metadata": {},
   "outputs": [
    {
     "name": "stdout",
     "output_type": "stream",
     "text": [
      "(149, 8)\n"
     ]
    }
   ],
   "source": [
    "print(gdf.shape)"
   ]
  },
  {
   "cell_type": "code",
   "execution_count": 118,
   "metadata": {},
   "outputs": [
    {
     "name": "stdout",
     "output_type": "stream",
     "text": [
      "<bound method NDFrame.head of      cartodb_id                 name             estacion    valid_ante  \\\n",
      "0             1          LA DESPENSA          LA DESPENSA    573.555556   \n",
      "1             2                 BOSA                 BOSA   1090.777778   \n",
      "2             3            LEON XIII            LEON XIII   2715.333333   \n",
      "3             4  TERRERO-HOSPITAL CV  TERRERO-HOSPITAL CV   5630.222222   \n",
      "4             5            SAN MATEO            SAN MATEO  11390.222220   \n",
      "..          ...                  ...                  ...           ...   \n",
      "144         145    Guatoque-Veraguas    Guatoque-Veraguas    409.555556   \n",
      "145         146       Tygua-San José       Tygua-San José    396.333333   \n",
      "146         147             Terminal             Terminal   2161.333333   \n",
      "147         148            Calle 187            Calle 187   1629.666667   \n",
      "148         149             Calle 26             Calle 26   3203.555556   \n",
      "\n",
      "     valid_cuar  nivel_ocup                         estacion_c  \\\n",
      "0           909    1.584851                   (07506) DESPENSA   \n",
      "1          1616    1.481512                       (07010) Bosa   \n",
      "2          2590    0.953990                  (07505) LEON XIII   \n",
      "3          5902    1.048342                   (07504) TERREROS   \n",
      "4         11367    0.997961                  (07503) SAN MATEO   \n",
      "..          ...         ...                                ...   \n",
      "144         491    1.198861         (07201) Guatoque -Veraguas   \n",
      "145         899    2.267283             (07200) Tygua-San José   \n",
      "146         864    0.399753                   (02502) Terminal   \n",
      "147         863    0.529556  (02001) Centro Comercial Santa Fe   \n",
      "148        1235    0.385384                   (09114) Calle 26   \n",
      "\n",
      "                      geometry  \n",
      "0    POINT (-74.18827 4.59455)  \n",
      "1    POINT (-74.18115 4.59689)  \n",
      "2    POINT (-74.19319 4.59216)  \n",
      "3    POINT (-74.19919 4.58915)  \n",
      "4    POINT (-74.20593 4.58579)  \n",
      "..                         ...  \n",
      "144  POINT (-74.09470 4.60394)  \n",
      "145  POINT (-74.08872 4.59967)  \n",
      "146  POINT (-74.04358 4.76874)  \n",
      "147  POINT (-74.04441 4.76342)  \n",
      "148  POINT (-74.07217 4.61666)  \n",
      "\n",
      "[149 rows x 8 columns]>\n"
     ]
    }
   ],
   "source": [
    "print(gdf.head)"
   ]
  },
  {
   "cell_type": "code",
   "execution_count": 121,
   "metadata": {},
   "outputs": [
    {
     "data": {
      "text/plain": [
       "<matplotlib.axes._subplots.AxesSubplot at 0x7fcb911a2c90>"
      ]
     },
     "execution_count": 121,
     "metadata": {},
     "output_type": "execute_result"
    },
    {
     "data": {
      "image/png": "[encoded data removed]",
      "text/plain": [
       "<Figure size 432x288 with 1 Axes>"
      ]
     },
     "metadata": {
      "needs_background": "light"
     },
     "output_type": "display_data"
    }
   ],
   "source": [
    "gdf.plot()\n"
   ]
  },
  {
   "cell_type": "code",
   "execution_count": 122,
   "metadata": {},
   "outputs": [
    {
     "data": {
      "text/plain": [
       "geopandas.geodataframe.GeoDataFrame"
      ]
     },
     "execution_count": 122,
     "metadata": {},
     "output_type": "execute_result"
    }
   ],
   "source": [
    "type(gdf)"
   ]
  },
  {
   "cell_type": "code",
   "execution_count": 123,
   "metadata": {},
   "outputs": [
    {
     "data": {
      "text/plain": [
       "(149, 8)"
      ]
     },
     "execution_count": 123,
     "metadata": {},
     "output_type": "execute_result"
    }
   ],
   "source": [
    "gdf.shape"
   ]
  },
  {
   "cell_type": "code",
   "execution_count": 124,
   "metadata": {},
   "outputs": [
    {
     "data": {
      "text/html": [
       "<div>\n",
       "<style scoped>\n",
       "    .dataframe tbody tr th:only-of-type {\n",
       "        vertical-align: middle;\n",
       "    }\n",
       "\n",
       "    .dataframe tbody tr th {\n",
       "        vertical-align: top;\n",
       "    }\n",
       "\n",
       "    .dataframe thead th {\n",
       "        text-align: right;\n",
       "    }\n",
       "</style>\n",
       "<table border=\"1\" class=\"dataframe\">\n",
       "  <thead>\n",
       "    <tr style=\"text-align: right;\">\n",
       "      <th></th>\n",
       "      <th>cartodb_id</th>\n",
       "      <th>name</th>\n",
       "      <th>estacion</th>\n",
       "      <th>valid_ante</th>\n",
       "      <th>valid_cuar</th>\n",
       "      <th>nivel_ocup</th>\n",
       "      <th>estacion_c</th>\n",
       "      <th>geometry</th>\n",
       "    </tr>\n",
       "  </thead>\n",
       "  <tbody>\n",
       "    <tr>\n",
       "      <td>0</td>\n",
       "      <td>1</td>\n",
       "      <td>LA DESPENSA</td>\n",
       "      <td>LA DESPENSA</td>\n",
       "      <td>573.555556</td>\n",
       "      <td>909</td>\n",
       "      <td>1.584851</td>\n",
       "      <td>(07506) DESPENSA</td>\n",
       "      <td>POINT (-74.18827 4.59455)</td>\n",
       "    </tr>\n",
       "    <tr>\n",
       "      <td>1</td>\n",
       "      <td>2</td>\n",
       "      <td>BOSA</td>\n",
       "      <td>BOSA</td>\n",
       "      <td>1090.777778</td>\n",
       "      <td>1616</td>\n",
       "      <td>1.481512</td>\n",
       "      <td>(07010) Bosa</td>\n",
       "      <td>POINT (-74.18115 4.59689)</td>\n",
       "    </tr>\n",
       "    <tr>\n",
       "      <td>2</td>\n",
       "      <td>3</td>\n",
       "      <td>LEON XIII</td>\n",
       "      <td>LEON XIII</td>\n",
       "      <td>2715.333333</td>\n",
       "      <td>2590</td>\n",
       "      <td>0.953990</td>\n",
       "      <td>(07505) LEON XIII</td>\n",
       "      <td>POINT (-74.19319 4.59216)</td>\n",
       "    </tr>\n",
       "    <tr>\n",
       "      <td>3</td>\n",
       "      <td>4</td>\n",
       "      <td>TERRERO-HOSPITAL CV</td>\n",
       "      <td>TERRERO-HOSPITAL CV</td>\n",
       "      <td>5630.222222</td>\n",
       "      <td>5902</td>\n",
       "      <td>1.048342</td>\n",
       "      <td>(07504) TERREROS</td>\n",
       "      <td>POINT (-74.19919 4.58915)</td>\n",
       "    </tr>\n",
       "    <tr>\n",
       "      <td>4</td>\n",
       "      <td>5</td>\n",
       "      <td>SAN MATEO</td>\n",
       "      <td>SAN MATEO</td>\n",
       "      <td>11390.222220</td>\n",
       "      <td>11367</td>\n",
       "      <td>0.997961</td>\n",
       "      <td>(07503) SAN MATEO</td>\n",
       "      <td>POINT (-74.20593 4.58579)</td>\n",
       "    </tr>\n",
       "    <tr>\n",
       "      <td>...</td>\n",
       "      <td>...</td>\n",
       "      <td>...</td>\n",
       "      <td>...</td>\n",
       "      <td>...</td>\n",
       "      <td>...</td>\n",
       "      <td>...</td>\n",
       "      <td>...</td>\n",
       "      <td>...</td>\n",
       "    </tr>\n",
       "    <tr>\n",
       "      <td>144</td>\n",
       "      <td>145</td>\n",
       "      <td>Guatoque-Veraguas</td>\n",
       "      <td>Guatoque-Veraguas</td>\n",
       "      <td>409.555556</td>\n",
       "      <td>491</td>\n",
       "      <td>1.198861</td>\n",
       "      <td>(07201) Guatoque -Veraguas</td>\n",
       "      <td>POINT (-74.09470 4.60394)</td>\n",
       "    </tr>\n",
       "    <tr>\n",
       "      <td>145</td>\n",
       "      <td>146</td>\n",
       "      <td>Tygua-San José</td>\n",
       "      <td>Tygua-San José</td>\n",
       "      <td>396.333333</td>\n",
       "      <td>899</td>\n",
       "      <td>2.267283</td>\n",
       "      <td>(07200) Tygua-San José</td>\n",
       "      <td>POINT (-74.08872 4.59967)</td>\n",
       "    </tr>\n",
       "    <tr>\n",
       "      <td>146</td>\n",
       "      <td>147</td>\n",
       "      <td>Terminal</td>\n",
       "      <td>Terminal</td>\n",
       "      <td>2161.333333</td>\n",
       "      <td>864</td>\n",
       "      <td>0.399753</td>\n",
       "      <td>(02502) Terminal</td>\n",
       "      <td>POINT (-74.04358 4.76874)</td>\n",
       "    </tr>\n",
       "    <tr>\n",
       "      <td>147</td>\n",
       "      <td>148</td>\n",
       "      <td>Calle 187</td>\n",
       "      <td>Calle 187</td>\n",
       "      <td>1629.666667</td>\n",
       "      <td>863</td>\n",
       "      <td>0.529556</td>\n",
       "      <td>(02001) Centro Comercial Santa Fe</td>\n",
       "      <td>POINT (-74.04441 4.76342)</td>\n",
       "    </tr>\n",
       "    <tr>\n",
       "      <td>148</td>\n",
       "      <td>149</td>\n",
       "      <td>Calle 26</td>\n",
       "      <td>Calle 26</td>\n",
       "      <td>3203.555556</td>\n",
       "      <td>1235</td>\n",
       "      <td>0.385384</td>\n",
       "      <td>(09114) Calle 26</td>\n",
       "      <td>POINT (-74.07217 4.61666)</td>\n",
       "    </tr>\n",
       "  </tbody>\n",
       "</table>\n",
       "<p>149 rows × 8 columns</p>\n",
       "</div>"
      ],
      "text/plain": [
       "     cartodb_id                 name             estacion    valid_ante  \\\n",
       "0             1          LA DESPENSA          LA DESPENSA    573.555556   \n",
       "1             2                 BOSA                 BOSA   1090.777778   \n",
       "2             3            LEON XIII            LEON XIII   2715.333333   \n",
       "3             4  TERRERO-HOSPITAL CV  TERRERO-HOSPITAL CV   5630.222222   \n",
       "4             5            SAN MATEO            SAN MATEO  11390.222220   \n",
       "..          ...                  ...                  ...           ...   \n",
       "144         145    Guatoque-Veraguas    Guatoque-Veraguas    409.555556   \n",
       "145         146       Tygua-San José       Tygua-San José    396.333333   \n",
       "146         147             Terminal             Terminal   2161.333333   \n",
       "147         148            Calle 187            Calle 187   1629.666667   \n",
       "148         149             Calle 26             Calle 26   3203.555556   \n",
       "\n",
       "     valid_cuar  nivel_ocup                         estacion_c  \\\n",
       "0           909    1.584851                   (07506) DESPENSA   \n",
       "1          1616    1.481512                       (07010) Bosa   \n",
       "2          2590    0.953990                  (07505) LEON XIII   \n",
       "3          5902    1.048342                   (07504) TERREROS   \n",
       "4         11367    0.997961                  (07503) SAN MATEO   \n",
       "..          ...         ...                                ...   \n",
       "144         491    1.198861         (07201) Guatoque -Veraguas   \n",
       "145         899    2.267283             (07200) Tygua-San José   \n",
       "146         864    0.399753                   (02502) Terminal   \n",
       "147         863    0.529556  (02001) Centro Comercial Santa Fe   \n",
       "148        1235    0.385384                   (09114) Calle 26   \n",
       "\n",
       "                      geometry  \n",
       "0    POINT (-74.18827 4.59455)  \n",
       "1    POINT (-74.18115 4.59689)  \n",
       "2    POINT (-74.19319 4.59216)  \n",
       "3    POINT (-74.19919 4.58915)  \n",
       "4    POINT (-74.20593 4.58579)  \n",
       "..                         ...  \n",
       "144  POINT (-74.09470 4.60394)  \n",
       "145  POINT (-74.08872 4.59967)  \n",
       "146  POINT (-74.04358 4.76874)  \n",
       "147  POINT (-74.04441 4.76342)  \n",
       "148  POINT (-74.07217 4.61666)  \n",
       "\n",
       "[149 rows x 8 columns]"
      ]
     },
     "execution_count": 124,
     "metadata": {},
     "output_type": "execute_result"
    }
   ],
   "source": [
    "gdf"
   ]
  },
  {
   "cell_type": "code",
   "execution_count": 137,
   "metadata": {},
   "outputs": [],
   "source": [
    "gdf['Discounted_Price'] =gdf['estacion_c']"
   ]
  },
  {
   "cell_type": "code",
   "execution_count": 166,
   "metadata": {},
   "outputs": [],
   "source": [
    "new = gdf[\"estacion_c\"].str.split(\" \", n = 1, expand = True)"
   ]
  },
  {
   "cell_type": "code",
   "execution_count": 167,
   "metadata": {},
   "outputs": [
    {
     "data": {
      "text/html": [
       "<div>\n",
       "<style scoped>\n",
       "    .dataframe tbody tr th:only-of-type {\n",
       "        vertical-align: middle;\n",
       "    }\n",
       "\n",
       "    .dataframe tbody tr th {\n",
       "        vertical-align: top;\n",
       "    }\n",
       "\n",
       "    .dataframe thead th {\n",
       "        text-align: right;\n",
       "    }\n",
       "</style>\n",
       "<table border=\"1\" class=\"dataframe\">\n",
       "  <thead>\n",
       "    <tr style=\"text-align: right;\">\n",
       "      <th></th>\n",
       "      <th>0</th>\n",
       "      <th>1</th>\n",
       "    </tr>\n",
       "  </thead>\n",
       "  <tbody>\n",
       "    <tr>\n",
       "      <td>0</td>\n",
       "      <td>(07506)</td>\n",
       "      <td>DESPENSA</td>\n",
       "    </tr>\n",
       "    <tr>\n",
       "      <td>1</td>\n",
       "      <td>(07010)</td>\n",
       "      <td>Bosa</td>\n",
       "    </tr>\n",
       "    <tr>\n",
       "      <td>2</td>\n",
       "      <td>(07505)</td>\n",
       "      <td>LEON XIII</td>\n",
       "    </tr>\n",
       "    <tr>\n",
       "      <td>3</td>\n",
       "      <td>(07504)</td>\n",
       "      <td>TERREROS</td>\n",
       "    </tr>\n",
       "    <tr>\n",
       "      <td>4</td>\n",
       "      <td>(07503)</td>\n",
       "      <td>SAN MATEO</td>\n",
       "    </tr>\n",
       "    <tr>\n",
       "      <td>...</td>\n",
       "      <td>...</td>\n",
       "      <td>...</td>\n",
       "    </tr>\n",
       "    <tr>\n",
       "      <td>144</td>\n",
       "      <td>(07201)</td>\n",
       "      <td>Guatoque -Veraguas</td>\n",
       "    </tr>\n",
       "    <tr>\n",
       "      <td>145</td>\n",
       "      <td>(07200)</td>\n",
       "      <td>Tygua-San José</td>\n",
       "    </tr>\n",
       "    <tr>\n",
       "      <td>146</td>\n",
       "      <td>(02502)</td>\n",
       "      <td>Terminal</td>\n",
       "    </tr>\n",
       "    <tr>\n",
       "      <td>147</td>\n",
       "      <td>(02001)</td>\n",
       "      <td>Centro Comercial Santa Fe</td>\n",
       "    </tr>\n",
       "    <tr>\n",
       "      <td>148</td>\n",
       "      <td>(09114)</td>\n",
       "      <td>Calle 26</td>\n",
       "    </tr>\n",
       "  </tbody>\n",
       "</table>\n",
       "<p>149 rows × 2 columns</p>\n",
       "</div>"
      ],
      "text/plain": [
       "           0                          1\n",
       "0    (07506)                   DESPENSA\n",
       "1    (07010)                       Bosa\n",
       "2    (07505)                  LEON XIII\n",
       "3    (07504)                   TERREROS\n",
       "4    (07503)                  SAN MATEO\n",
       "..       ...                        ...\n",
       "144  (07201)         Guatoque -Veraguas\n",
       "145  (07200)             Tygua-San José\n",
       "146  (02502)                   Terminal\n",
       "147  (02001)  Centro Comercial Santa Fe\n",
       "148  (09114)                   Calle 26\n",
       "\n",
       "[149 rows x 2 columns]"
      ]
     },
     "execution_count": 167,
     "metadata": {},
     "output_type": "execute_result"
    }
   ],
   "source": [
    "new"
   ]
  },
  {
   "cell_type": "code",
   "execution_count": 169,
   "metadata": {},
   "outputs": [],
   "source": [
    "new.drop(columns =[0], inplace = True)"
   ]
  },
  {
   "cell_type": "code",
   "execution_count": 170,
   "metadata": {},
   "outputs": [
    {
     "data": {
      "text/html": [
       "<div>\n",
       "<style scoped>\n",
       "    .dataframe tbody tr th:only-of-type {\n",
       "        vertical-align: middle;\n",
       "    }\n",
       "\n",
       "    .dataframe tbody tr th {\n",
       "        vertical-align: top;\n",
       "    }\n",
       "\n",
       "    .dataframe thead th {\n",
       "        text-align: right;\n",
       "    }\n",
       "</style>\n",
       "<table border=\"1\" class=\"dataframe\">\n",
       "  <thead>\n",
       "    <tr style=\"text-align: right;\">\n",
       "      <th></th>\n",
       "      <th>1</th>\n",
       "    </tr>\n",
       "  </thead>\n",
       "  <tbody>\n",
       "    <tr>\n",
       "      <td>0</td>\n",
       "      <td>DESPENSA</td>\n",
       "    </tr>\n",
       "    <tr>\n",
       "      <td>1</td>\n",
       "      <td>Bosa</td>\n",
       "    </tr>\n",
       "    <tr>\n",
       "      <td>2</td>\n",
       "      <td>LEON XIII</td>\n",
       "    </tr>\n",
       "    <tr>\n",
       "      <td>3</td>\n",
       "      <td>TERREROS</td>\n",
       "    </tr>\n",
       "    <tr>\n",
       "      <td>4</td>\n",
       "      <td>SAN MATEO</td>\n",
       "    </tr>\n",
       "    <tr>\n",
       "      <td>...</td>\n",
       "      <td>...</td>\n",
       "    </tr>\n",
       "    <tr>\n",
       "      <td>144</td>\n",
       "      <td>Guatoque -Veraguas</td>\n",
       "    </tr>\n",
       "    <tr>\n",
       "      <td>145</td>\n",
       "      <td>Tygua-San José</td>\n",
       "    </tr>\n",
       "    <tr>\n",
       "      <td>146</td>\n",
       "      <td>Terminal</td>\n",
       "    </tr>\n",
       "    <tr>\n",
       "      <td>147</td>\n",
       "      <td>Centro Comercial Santa Fe</td>\n",
       "    </tr>\n",
       "    <tr>\n",
       "      <td>148</td>\n",
       "      <td>Calle 26</td>\n",
       "    </tr>\n",
       "  </tbody>\n",
       "</table>\n",
       "<p>149 rows × 1 columns</p>\n",
       "</div>"
      ],
      "text/plain": [
       "                             1\n",
       "0                     DESPENSA\n",
       "1                         Bosa\n",
       "2                    LEON XIII\n",
       "3                     TERREROS\n",
       "4                    SAN MATEO\n",
       "..                         ...\n",
       "144         Guatoque -Veraguas\n",
       "145             Tygua-San José\n",
       "146                   Terminal\n",
       "147  Centro Comercial Santa Fe\n",
       "148                   Calle 26\n",
       "\n",
       "[149 rows x 1 columns]"
      ]
     },
     "execution_count": 170,
     "metadata": {},
     "output_type": "execute_result"
    }
   ],
   "source": [
    "new"
   ]
  }
 ],
 "metadata": {
  "kernelspec": {
   "display_name": "Python 3",
   "language": "python",
   "name": "python3"
  },
  "language_info": {
   "codemirror_mode": {
    "name": "ipython",
    "version": 3
   },
   "file_extension": ".py",
   "mimetype": "text/x-python",
   "name": "python",
   "nbconvert_exporter": "python",
   "pygments_lexer": "ipython3",
   "version": "3.7.4"
  }
 },
 "nbformat": 4,
 "nbformat_minor": 2
}
